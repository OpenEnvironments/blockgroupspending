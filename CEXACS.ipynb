{
 "cells": [
  {
   "cell_type": "code",
   "execution_count": 1,
   "id": "da033e03",
   "metadata": {},
   "outputs": [
    {
     "name": "stdout",
     "output_type": "stream",
     "text": [
      "Dataframes loaded with fmli: 23678  and acs: 242336\n",
      "Looking for NAs\n",
      "NAs found: 0\n",
      "Dataframes cleaned with fmli: 22631  and acs: 239535\n"
     ]
    }
   ],
   "source": [
    "#\n",
    "# For each independent variable, we need to generate equivalents between the ACS and the FMLI\n",
    "#\n",
    "\n",
    "import pandas as pd\n",
    "import pickle\n",
    "import numpy as np\n",
    "from matplotlib import pyplot as plt\n",
    "import warnings \n",
    "warnings.filterwarnings('ignore')\n",
    "\n",
    "dependents = ['TOTEXP','FOOD','ALCBEV','HOUS','APPAR','TRANS','HEALTH', 'ENTERT',\n",
    "           'PERSCA', 'READ','EDUCA','TOBACC','MISC', 'CASHCO','RETPEN']\n",
    "\n",
    "independents = ['income_z',\n",
    "                'incbin',\n",
    "                'homeownership',\n",
    "                'vehicles_0_1',\n",
    "                'married',\n",
    "                'children',\n",
    "                'bedroomstwofewer',                \n",
    "               ]\n",
    "\n",
    "#\n",
    "# Load the source datasets\n",
    "#\n",
    "\n",
    "fmli = pd.read_pickle('fmli.pkl')\n",
    "acs = pd.read_pickle('acs.pkl')\n",
    "myvars = pd.read_csv(\"myvars.csv\")\n",
    "cu = sum((fmli.FINLWT21 * fmli.MO_SCOPE / 3) / 4)\n",
    "\n",
    "print(\"Dataframes loaded with fmli:\",fmli.shape[0],\" and acs:\",acs.shape[0])\n",
    "\n",
    "\n",
    "#\n",
    "# Cleanup\n",
    "#\n",
    "\n",
    "# Cast data types\n",
    "for f in [\"CUTENURE\",\"FINCBTXM\",\"VEHQ\",\"FAM_TYPE\"]:\n",
    "    fmli[f] = fmli[f].astype(int)\n",
    "\n",
    "# Dependent variables are highly right skewed\n",
    "# Logs look normal, EXCEPT most categories reasonably have 0 values\n",
    "#for d in dependents:\n",
    "#    print(d,sum(fmli[d] <= 0) / fmli.shape[0])\n",
    "#    \"\"\"fmli[\"log_\"+d] = np.log(0.1+fmli[d])\n",
    "#    fmli[\"log_\"+d].hist(bins=40)\n",
    "#    plt.show()\"\"\"\n",
    "\n",
    "# Incomplete interviews\n",
    "fmli = fmli[fmli.TOTEXP > 0].copy()     # 1627 rows removed, incomplete surveys\n",
    "fmli = fmli[fmli.FINCBTXM > 0].copy()   # 70 rows removed\n",
    "\n",
    "acs = acs[acs.B25003_001E > 0].copy()  # 2801 block groups have no households\n",
    "acs = acs[acs.B01001_001E > 0].copy()  # 2164 block groups have no people\n",
    "acs = acs[acs.B02001_001E > 0].copy()  # 2164 have no race basis variable\n",
    "\n",
    "# NAs\n",
    "print(\"Looking for NAs\")\n",
    "for c in ['TQ_'+d for d in dependents]:\n",
    "    if fmli[c].isna().sum() > 0:\n",
    "        print(c,fmli[c].isna().sum())\n",
    "print(\"NAs found:\",fmli[['TQ_'+d for d in dependents]].isna().sum().sum())\n",
    "\n",
    "# Outliers\n",
    "for d in dependents:\n",
    "    fmli[d] = fmli[d+\"PQ\"]+fmli[d+\"CQ\"]\n",
    "\n",
    "fmli = fmli[abs(fmli.TOTEXP) < (3 * fmli.TOTEXP.std())].copy()  # Loses 904 rows\n",
    "    \n",
    "#for depvar in dependents: # For each depvar, there are ~150 that are 5 std out, collective 6K\n",
    "#    print(depvar,fmli[abs(fmli[depvar]) > 5 * fmli[depvar].std()].shape[0])\n",
    "\n",
    "print(\"Dataframes cleaned with fmli:\",fmli.shape[0],\" and acs:\",acs.shape[0])\n"
   ]
  },
  {
   "cell_type": "code",
   "execution_count": null,
   "id": "70a4a97d-6871-4e9b-a52b-0cedd0ec9be4",
   "metadata": {},
   "outputs": [],
   "source": []
  },
  {
   "cell_type": "code",
   "execution_count": null,
   "id": "7c8702c7-59c0-4310-a917-5d490d92172b",
   "metadata": {},
   "outputs": [],
   "source": []
  },
  {
   "cell_type": "code",
   "execution_count": null,
   "id": "81b11b12-1fba-4104-a279-bda650d05263",
   "metadata": {},
   "outputs": [],
   "source": []
  },
  {
   "cell_type": "code",
   "execution_count": null,
   "id": "44978d33-5318-4f95-a191-882db9dea4a5",
   "metadata": {},
   "outputs": [],
   "source": []
  },
  {
   "cell_type": "code",
   "execution_count": 2,
   "id": "ee253ef5",
   "metadata": {},
   "outputs": [],
   "source": [
    "#\n",
    "# Comparison utilities\n",
    "#\n",
    "\n",
    "import matplotlib.pyplot as plt\n",
    "import numpy as np\n",
    "from matplotlib import colors\n",
    "from tabulate import tabulate\n",
    "import scipy.stats as st\n",
    "\n",
    "def oe_hist(series):\n",
    "    ax = series.hist(figsize=(12,10), bins=50)\n",
    "    ax.set_xlabel(\"\")\n",
    "    ax.set_ylabel(\"Frequency\")\n",
    "    return ax\n",
    "\n",
    "def oe_bar(series):\n",
    "    series.plot(kind=\"bar\")\n",
    "    return ax\n",
    "\n",
    "def oe_scatter(x,y):\n",
    "    \"\"\"\n",
    "    Simple scatter chart comparing one variable against another\n",
    "    \"\"\"\n",
    "    plt.scatter(x, y, color='red')\n",
    "    plt.bins(\"\", fontsize=14)\n",
    "    plt.ylabel(\"\", fontsize=14)\n",
    "    plt.xlabel(\"\", fontsize=14)\n",
    "    plt.grid(True)\n",
    "    return plt\n",
    "\n",
    "def oe_corr(df):\n",
    "    \"\"\"\n",
    "    Provides the correlation matrix as a heatmap\n",
    "    \"\"\"\n",
    "    correlationmatrix = df.corr()\n",
    "    fig = plt.figure(figsize = (15,15))\n",
    "    return sb.heatmap(correlationmatrix, vmax = .8, square = True)\n",
    "\n",
    "def compare(atitle,A,btitle,B,ctitle = None,C=None):\n",
    "    fig, axs = plt.subplots(1, 3, sharey=True, tight_layout=True, figsize = (15,6))\n",
    "    axs[0].hist(A.sample(min(A.shape[0],B.shape[0])), bins=20)\n",
    "    axs[0].set_title(atitle)\n",
    "    axs[1].hist(B.sample(min(A.shape[0],B.shape[0])), bins=20)\n",
    "    axs[1].set_title(btitle)\n",
    "    if C is not None:\n",
    "        axs[2].hist(C, bins=20)\n",
    "        axs[2].set_title(ctitle)\n",
    "    print(tabulate([[atitle,A.mean(),A.std()], [btitle,B.mean(),B.std()]], headers=['Var','Mean', 'StdDev']))\n",
    "    return\n",
    "\n",
    "def get_best_distribution(data):\n",
    "    # Available scipy.stats distributions:\n",
    "    dist_names = [\\\n",
    "                  #'alpha','anglit','arcsine','argus','beta','betaprime','bradford','burr','burr12','cauchy','chi','chi2','cosine','crystalball','dgamma','dweibull','erlang','expon','exponnorm','exponweib','exponpow','f','fatiguelife','fisk','foldcauchy','foldnorm','genlogistic','gennorm','genpareto','genexpon','genextreme','gausshyper','gamma','gengamma','genhalflogistic','genhyperbolic','geninvgauss',\n",
    "                  #'gibrat',\n",
    "                  'gompertz','gumbel_r','gumbel_l','halfcauchy','halflogistic','halfnorm','halfgennorm','hypsecant','invgamma','invgauss','invweibull','johnsonsb','johnsonsu','kappa4','kappa3',\n",
    "                  #'ksone','kstwo','kstwobign',\n",
    "                  'laplace','laplace_asymmetric','levy','levy_l',\n",
    "                  #'levy_stable',\n",
    "                  'logistic','loggamma','loglaplace','lognorm','loguniform','lomax','maxwell','mielke','moyal','nakagami','ncx2','ncf','nct','norm','norminvgauss','pareto','pearson3','powerlaw','powerlognorm','powernorm','rdist','rayleigh','rice','recipinvgauss','semicircular','skewcauchy','skewnorm','studentized_range','t','trapezoid','triang','truncexpon','truncnorm',\n",
    "                  #'truncweibull_min',\n",
    "                  'tukeylambda','uniform','vonmises','vonmises_line','wald','weibull_min','weibull_max','wrapcauchy']\n",
    "    # npdist = ['beta','binomial','chisquare','dirichlet','exponential','f','gamma','geometric','gumbel','hypergeometric','laplace','logistic','lognormal','logseries','multinomial','multivariate_normal','negative_binomial','noncentral_chisquare','noncentral_f','normal','pareto','poisson','power','rayleigh','standard_cauchy','standard_exponential','standard_gamma','standard_normal','standard_t','triangular','uniform','vonmises','wald','weibull','zipf']\n",
    "    \n",
    "    dist_results = []\n",
    "    params = {}\n",
    "    for dist_name in dist_names:\n",
    "        dist = getattr(st, dist_name)\n",
    "        param = dist.fit(data)\n",
    "\n",
    "        params[dist_name] = param\n",
    "        # Applying the Kolmogorov-Smirnov test\n",
    "        D, p = st.kstest(data, dist_name, args=param)\n",
    "        print(\"p value for \"+dist_name+\" = \"+str(p))\n",
    "        dist_results.append((dist_name, p))\n",
    "\n",
    "    # select the best fitted distribution\n",
    "    best_dist, best_p = (max(dist_results, key=lambda item: item[1]))\n",
    "    # store the name of the best fit and its p value\n",
    "\n",
    "    print(\"Best fitting distribution: \"+str(best_dist))\n",
    "    print(\"Best p value: \"+ str(best_p))\n",
    "    print(\"Parameters for the best fit: \"+ str(params[best_dist]))\n",
    "\n",
    "    return best_dist, best_p, params[best_dist],dist_results"
   ]
  },
  {
   "cell_type": "code",
   "execution_count": null,
   "id": "22c2c5a4-9b64-4c4d-b442-041425243b63",
   "metadata": {},
   "outputs": [],
   "source": []
  },
  {
   "cell_type": "code",
   "execution_count": null,
   "id": "daedcddc-fe1c-477a-a32d-bdafc798e250",
   "metadata": {},
   "outputs": [],
   "source": []
  },
  {
   "cell_type": "code",
   "execution_count": 4,
   "id": "634de766",
   "metadata": {},
   "outputs": [],
   "source": [
    "#\n",
    "#\n",
    "# For each independent variable, related the weighted observation against ACS equivalent\n",
    "#\n",
    "#"
   ]
  },
  {
   "cell_type": "code",
   "execution_count": null,
   "id": "6bf7ed96-393b-4e57-9574-66e0b5e8234a",
   "metadata": {},
   "outputs": [],
   "source": []
  },
  {
   "cell_type": "code",
   "execution_count": 36,
   "id": "e799d096",
   "metadata": {},
   "outputs": [
    {
     "name": "stdout",
     "output_type": "stream",
     "text": [
      "Var                 Mean    StdDev\n",
      "----------  ------------  --------\n",
      "ACS Income  -2.76893e-15         1\n",
      "CEX Income   4.68912e-16         1\n"
     ]
    },
    {
     "data": {
      "text/plain": [
       "incbin\n",
       "E    0.224117\n",
       "D    0.208696\n",
       "F    0.179267\n",
       "C    0.163758\n",
       "B    0.130485\n",
       "A    0.057222\n",
       "G    0.036454\n",
       "Name: proportion, dtype: float64"
      ]
     },
     "execution_count": 36,
     "metadata": {},
     "output_type": "execute_result"
    },
    {
     "data": {
      "image/png": "[encoded data removed]",
      "text/plain": [
       "<Figure size 1500x600 with 3 Axes>"
      ]
     },
     "metadata": {},
     "output_type": "display_data"
    }
   ],
   "source": [
    "#\n",
    "# Income before taxes\n",
    "#\n",
    "# ACS B19013e1   - median household income\n",
    "#     B25003e1   - housing units\n",
    "# B19025 Aggregate Household Income In The Past 12 Months (In 2019 Inflation-Adjusted Dollars)\n",
    "\n",
    "# CEX FINCBTXM\n",
    "\n",
    "acs = acs[acs.B19013_001E != -666666666]  # 14,405 rows use this as an NA placeholder\n",
    "acs = acs[acs.B19013_001E != 250001]      # 2,431 rows use this topcoding\n",
    "\n",
    "acs['income_log'] = np.log(acs.B19013_001E)\n",
    "fmli['income_log'] = np.log(fmli.FINCBTXM)\n",
    "\n",
    "acs['income_z'] = (acs.income_log-acs.income_log.mean())/acs.income_log.std()\n",
    "fmli['income_z'] = (fmli.income_log-fmli.income_log.mean())/fmli.income_log.std()\n",
    "\n",
    "compare(\"ACS Income\",acs.income_z,\"CEX Income\", fmli.income_z)\n",
    "\n",
    "fmli['incbin'] = np.where(fmli['income_z'] < -1.5, 'A',\n",
    "                 np.where(fmli['income_z'] < -.75, 'B',\n",
    "                 np.where(fmli['income_z'] < -.25, 'C',\n",
    "                 np.where(fmli['income_z'] < .25, 'D',\n",
    "                 np.where(fmli['income_z'] < .75, 'E', \n",
    "                 np.where(fmli['income_z'] < 1.5, 'F', 'G'))))))\n",
    "\n",
    "fmli.incbin.value_counts(normalize=True)"
   ]
  },
  {
   "cell_type": "code",
   "execution_count": null,
   "id": "5994518b-691b-4493-a19f-486fe797b41d",
   "metadata": {},
   "outputs": [],
   "source": []
  },
  {
   "cell_type": "code",
   "execution_count": null,
   "id": "a3110ae5-7845-48b6-aa59-d5ed922f7339",
   "metadata": {},
   "outputs": [],
   "source": []
  },
  {
   "cell_type": "code",
   "execution_count": 27,
   "id": "65729c77-8c99-4f08-a332-db49be1524e9",
   "metadata": {},
   "outputs": [],
   "source": [
    "fmli['incbin'] = np.where(fmli['income_z'] < -1.5, 'A',\n",
    "                 np.where(fmli['income_z'] < -.75, 'B',\n",
    "                 np.where(fmli['income_z'] < -.25, 'C',\n",
    "                 np.where(fmli['income_z'] < .25, 'D',\n",
    "                 np.where(fmli['income_z'] < .75, 'E', \n",
    "                 np.where(fmli['income_z'] < 1.5, 'F', 'G'))))))"
   ]
  },
  {
   "cell_type": "code",
   "execution_count": null,
   "id": "eed2dad4-86c0-449f-a824-2d318eec1f4b",
   "metadata": {},
   "outputs": [],
   "source": []
  },
  {
   "cell_type": "code",
   "execution_count": 20,
   "id": "e494bafe-fae8-4a16-b7c0-30df80974199",
   "metadata": {},
   "outputs": [
    {
     "name": "stdout",
     "output_type": "stream",
     "text": [
      "     low 0.2647253766956829\n",
      "lowermid 0.27497680173213734\n",
      "uppermid 0.22398479961115283\n",
      "    high 0.2363130219610269\n"
     ]
    }
   ],
   "source": [
    "breaks = [35000,75000,130000]\n",
    "print(\"     low\",sum(fmli.FINCBTXM < breaks[0])/fmli.shape[0])\n",
    "print(\"lowermid\",sum((fmli.FINCBTXM >= breaks[0])&(fmli.FINCBTXM < breaks[1]))/fmli.shape[0])\n",
    "print(\"uppermid\",sum((fmli.FINCBTXM >= breaks[1])&(fmli.FINCBTXM < breaks[2]))/fmli.shape[0])\n",
    "print(\"    high\",sum((fmli.FINCBTXM >= breaks[2]))/fmli.shape[0])\n"
   ]
  },
  {
   "cell_type": "code",
   "execution_count": null,
   "id": "26da9f25-d7e0-497b-ac4a-561b268f48d5",
   "metadata": {},
   "outputs": [],
   "source": []
  },
  {
   "cell_type": "code",
   "execution_count": 11,
   "id": "cbec1424-805b-4dc2-a9f4-21aae034a4e3",
   "metadata": {},
   "outputs": [],
   "source": [
    "acs = acs[acs.B19013_001E != -666666666]  # 14,405 rows use this as an NA placeholder\n",
    "acs = acs[acs.B19013_001E != 250001]      # 2,431 rows use this topcoding"
   ]
  },
  {
   "cell_type": "code",
   "execution_count": null,
   "id": "3fa86833-1acb-4aaf-ae38-e758c6b9768e",
   "metadata": {},
   "outputs": [],
   "source": []
  },
  {
   "cell_type": "code",
   "execution_count": null,
   "id": "6c1dc1ec-11f7-4e1f-953a-d0ec2f293a2f",
   "metadata": {},
   "outputs": [],
   "source": []
  },
  {
   "cell_type": "code",
   "execution_count": 7,
   "id": "bde3ae13-f52c-4cbf-a4a5-3ce259dbee64",
   "metadata": {},
   "outputs": [
    {
     "name": "stdout",
     "output_type": "stream",
     "text": [
      "B19013_001E 14405\n",
      "B25064_001E 65283\n"
     ]
    }
   ],
   "source": [
    "for c in acs.columns:\n",
    "    if sum(acs[c] == -666666666) > 0:\n",
    "        print(c,sum(acs[c] == -666666666))"
   ]
  },
  {
   "cell_type": "code",
   "execution_count": 12,
   "id": "ffda21d9-be45-4ade-99eb-4b47f1871c31",
   "metadata": {},
   "outputs": [
    {
     "data": {
      "text/plain": [
       "<Axes: >"
      ]
     },
     "execution_count": 12,
     "metadata": {},
     "output_type": "execute_result"
    },
    {
     "data": {
      "image/png": "[encoded data removed]",
      "text/plain": [
       "<Figure size 640x480 with 1 Axes>"
      ]
     },
     "metadata": {},
     "output_type": "display_data"
    }
   ],
   "source": [
    "acs.B19013_001E.hist(bins=40)"
   ]
  },
  {
   "cell_type": "code",
   "execution_count": 34,
   "id": "0edfb5a9-f046-4cdd-a3df-bf1a32ce23cc",
   "metadata": {},
   "outputs": [
    {
     "name": "stdout",
     "output_type": "stream",
     "text": [
      "     low 0.22261887121181506\n",
      "lowermid 0.239933722199022\n",
      "uppermid 0.2693456189744902\n",
      "    high 0.26810178761467274\n"
     ]
    }
   ],
   "source": [
    "breaks = [50000,70000,100000]\n",
    "print(\"     low\",sum( acs.B19013_001E  < breaks[0])/acs.shape[0])\n",
    "print(\"lowermid\",sum((acs.B19013_001E  >= breaks[0])&(acs.B19013_001E  < breaks[1]))/acs.shape[0])\n",
    "print(\"uppermid\",sum((acs.B19013_001E  >= breaks[1])&(acs.B19013_001E  < breaks[2]))/acs.shape[0])\n",
    "print(\"    high\",sum((acs.B19013_001E  >= breaks[2]))/acs.shape[0])\n"
   ]
  },
  {
   "cell_type": "code",
   "execution_count": null,
   "id": "bfde4519-82c7-40a7-a0fb-7a5dff96faa8",
   "metadata": {},
   "outputs": [],
   "source": []
  },
  {
   "cell_type": "code",
   "execution_count": 37,
   "id": "a7bbe646-1c6b-4dcf-968b-d2883fe2a283",
   "metadata": {},
   "outputs": [],
   "source": [
    "acs[\"income_low\"]      = np.where(acs.B19013_001E <  50000,1,0)\n",
    "acs[\"income_lowermid\"] = np.where((acs.B19013_001E >= 50000)&(acs.B19013_001E <  70000),1,0)\n",
    "acs[\"income_uppermid\"] = np.where((acs.B19013_001E >= 70000)&(acs.B19013_001E < 100000),1,0)\n",
    "acs[\"income_high\"]     = np.where(acs.B19013_001E >= 100000,1,0)"
   ]
  },
  {
   "cell_type": "code",
   "execution_count": null,
   "id": "365c090a-e155-402e-9fb9-213979e45ae5",
   "metadata": {},
   "outputs": [],
   "source": []
  },
  {
   "cell_type": "code",
   "execution_count": null,
   "id": "a71f1d22-9d9e-4bb9-b7f3-3ecc3860df75",
   "metadata": {},
   "outputs": [],
   "source": []
  },
  {
   "cell_type": "code",
   "execution_count": null,
   "id": "a9e1c4d6-e147-49fa-b9f2-1ead31f7ed2b",
   "metadata": {},
   "outputs": [],
   "source": []
  },
  {
   "cell_type": "code",
   "execution_count": null,
   "id": "5ca13b99-dc96-47a6-b89a-5230d1fdccb9",
   "metadata": {},
   "outputs": [],
   "source": []
  },
  {
   "cell_type": "code",
   "execution_count": null,
   "id": "c4622a8b-9a9b-47b9-b2e6-032f2800eea0",
   "metadata": {},
   "outputs": [],
   "source": []
  },
  {
   "cell_type": "code",
   "execution_count": null,
   "id": "04854027-966a-4e88-b3a9-d353b3ff21e8",
   "metadata": {},
   "outputs": [],
   "source": []
  },
  {
   "cell_type": "code",
   "execution_count": null,
   "id": "59653284-d2fc-4060-8198-f98320367d46",
   "metadata": {},
   "outputs": [],
   "source": []
  },
  {
   "cell_type": "code",
   "execution_count": null,
   "id": "77b7295c-9872-4d63-a274-5d3f481269ac",
   "metadata": {},
   "outputs": [],
   "source": []
  },
  {
   "cell_type": "code",
   "execution_count": null,
   "id": "4bea796b-90a4-4872-aeb0-129ca88c42ab",
   "metadata": {},
   "outputs": [],
   "source": []
  },
  {
   "cell_type": "code",
   "execution_count": null,
   "id": "246fd1c7-a05d-4a7f-9367-713fcbde7b38",
   "metadata": {},
   "outputs": [],
   "source": []
  },
  {
   "cell_type": "code",
   "execution_count": null,
   "id": "705d4d70-c8a3-4564-9d2b-b713863e21c1",
   "metadata": {},
   "outputs": [],
   "source": []
  },
  {
   "cell_type": "code",
   "execution_count": null,
   "id": "a851c853-b6bb-4ad3-a01c-2ffcfcc50715",
   "metadata": {},
   "outputs": [],
   "source": []
  },
  {
   "cell_type": "code",
   "execution_count": null,
   "id": "8d6306b9-a4fa-4bc0-b407-1c3a360a4911",
   "metadata": {},
   "outputs": [],
   "source": []
  },
  {
   "cell_type": "code",
   "execution_count": null,
   "id": "fa74d884-60ea-41e9-a96b-6e9487665dde",
   "metadata": {},
   "outputs": [],
   "source": []
  },
  {
   "cell_type": "code",
   "execution_count": null,
   "id": "2fd4d0ce-8df4-4259-b875-b7912fb2091b",
   "metadata": {},
   "outputs": [],
   "source": []
  },
  {
   "cell_type": "code",
   "execution_count": null,
   "id": "593912a1-a432-431a-b59c-3e0ee8c5fd61",
   "metadata": {},
   "outputs": [],
   "source": []
  },
  {
   "cell_type": "code",
   "execution_count": null,
   "id": "26e2dbf5-235b-43e3-a17d-7e6da8856655",
   "metadata": {},
   "outputs": [],
   "source": []
  },
  {
   "cell_type": "code",
   "execution_count": null,
   "id": "b86544dc-2045-4ee5-8aa5-f3205a74bac2",
   "metadata": {},
   "outputs": [],
   "source": []
  },
  {
   "cell_type": "code",
   "execution_count": null,
   "id": "e84c605c-9da8-4e27-9e9f-cfef62244eaf",
   "metadata": {},
   "outputs": [],
   "source": []
  },
  {
   "cell_type": "code",
   "execution_count": null,
   "id": "c014f97a-9381-4932-a498-338ca03d5433",
   "metadata": {},
   "outputs": [],
   "source": []
  },
  {
   "cell_type": "code",
   "execution_count": null,
   "id": "9e022023-7079-4dd1-a660-844e543b8957",
   "metadata": {},
   "outputs": [],
   "source": []
  },
  {
   "cell_type": "code",
   "execution_count": null,
   "id": "3779ca35-7bdc-498d-9f01-088df2877485",
   "metadata": {},
   "outputs": [],
   "source": []
  },
  {
   "cell_type": "code",
   "execution_count": null,
   "id": "c7546f62-1344-4300-b655-786b14715cde",
   "metadata": {},
   "outputs": [],
   "source": []
  },
  {
   "cell_type": "code",
   "execution_count": 29,
   "id": "9f8a7288",
   "metadata": {},
   "outputs": [
    {
     "name": "stdout",
     "output_type": "stream",
     "text": [
      "Var                    Mean    StdDev\n",
      "-----------------  --------  --------\n",
      "ACS homeownership  0.656647  0.272422\n",
      "CEX homeownership  0.654677  0.475484\n"
     ]
    },
    {
     "data": {
      "image/png": "[encoded data removed]",
      "text/plain": [
       "<Figure size 1500x600 with 3 Axes>"
      ]
     },
     "metadata": {},
     "output_type": "display_data"
    }
   ],
   "source": [
    "#\n",
    "# Home Ownership (Tenure)\n",
    "#\n",
    "# ACS\n",
    "\n",
    "fmli['homeownership'] = (fmli.CUTENURE.astype(int) < 4).astype(int) \n",
    "acs['homeownership'] = acs.B25003_002E/acs.B25003_001E  # proportion of occupied housing that is owned \n",
    "\n",
    "compare(\"ACS homeownership\",acs.homeownership,\"CEX homeownership\", fmli.homeownership)"
   ]
  },
  {
   "cell_type": "code",
   "execution_count": null,
   "id": "9937b6a9-e02e-40d9-b169-d908fc577d92",
   "metadata": {},
   "outputs": [],
   "source": []
  },
  {
   "cell_type": "code",
   "execution_count": null,
   "id": "9da14a65-c4b3-4116-8c9d-63d991d42a68",
   "metadata": {},
   "outputs": [],
   "source": []
  },
  {
   "cell_type": "code",
   "execution_count": null,
   "id": "86bbf134-3e4a-420f-baba-90461713aedf",
   "metadata": {},
   "outputs": [],
   "source": []
  },
  {
   "cell_type": "code",
   "execution_count": null,
   "id": "5004ed18-e897-40f2-97f8-60fd1cba005a",
   "metadata": {},
   "outputs": [],
   "source": []
  },
  {
   "cell_type": "code",
   "execution_count": 30,
   "id": "f80b597f",
   "metadata": {},
   "outputs": [
    {
     "name": "stdout",
     "output_type": "stream",
     "text": [
      "Var                   Mean    StdDev\n",
      "----------------  --------  --------\n",
      "ACS vehicles_0_1  0.409238  0.224408\n",
      "CEX vehicles_0_1  0.488224  0.499872\n"
     ]
    },
    {
     "data": {
      "image/png": "[encoded data removed]",
      "text/plain": [
       "<Figure size 1500x600 with 3 Axes>"
      ]
     },
     "metadata": {},
     "output_type": "display_data"
    }
   ],
   "source": [
    "#\n",
    "# Vehicle Ownership\n",
    "#\n",
    "cu = sum((fmli.FINLWT21 * fmli.MO_SCOPE / 3) / 4)\n",
    "\n",
    "acs['vehicles_0_1'] = (acs.B25044_010E + acs.B25044_011E + acs.B25044_003E + acs.B25044_004E) / (acs.B25044_002E+acs.B25044_009E) \n",
    "\n",
    "fmli['vehicles_0_1'] = (fmli.VEHQ < 2).astype(int)\n",
    "\n",
    "\"\"\"\n",
    "B25044e9\tRenter Occupied Vehicles Basis; \n",
    "B25044e10\tNo vehicle available; Renter occupied\n",
    "B25044e11\t1 vehicle available; Renter occupied\n",
    "B25044e12\t2 vehicles available; Renter occupied\n",
    "B25044e13\t3 vehicles available; Renter occupied\n",
    "B25044e14\t4 vehicles available; Renter occupied\n",
    "B25044e15\t5 or more vehicles available; Renter occupied\n",
    "\t\n",
    "B25044e2\tOwner Occupied Vehicles Basis; \n",
    "B25044e3\tNo vehicle available; Owner occupied\n",
    "B25044e4\t1 vehicle available; Owner occupied\n",
    "B25044e5\t2 vehicles available; Owner occupied\n",
    "B25044e6\t3 vehicles available; Owner occupied\n",
    "B25044e7\t4 vehicles available; Owner occupied\n",
    "B25044e8\t5 or more vehicles available; Owner occupied\n",
    "\"\"\"\n",
    "\n",
    "compare(\"ACS vehicles_0_1\",acs.vehicles_0_1,\"CEX vehicles_0_1\", fmli.vehicles_0_1)"
   ]
  },
  {
   "cell_type": "code",
   "execution_count": 6,
   "id": "d9ca87be-4d1c-4a6f-9dd3-4d96b215cfc5",
   "metadata": {},
   "outputs": [
    {
     "data": {
      "text/plain": [
       "VEHQ\n",
       "1     8309\n",
       "2     6524\n",
       "3     2887\n",
       "0     2740\n",
       "4     1162\n",
       "5      515\n",
       "6      195\n",
       "7      129\n",
       "8       75\n",
       "9       36\n",
       "10      21\n",
       "11      13\n",
       "12      11\n",
       "14       6\n",
       "16       2\n",
       "23       2\n",
       "13       2\n",
       "15       2\n",
       "Name: count, dtype: int64"
      ]
     },
     "execution_count": 6,
     "metadata": {},
     "output_type": "execute_result"
    }
   ],
   "source": [
    "\n",
    "\n",
    "\n",
    "fmli.VEHQ.value_counts()"
   ]
  },
  {
   "cell_type": "code",
   "execution_count": null,
   "id": "c561af82-f469-4873-89a9-a4252dd5f8e1",
   "metadata": {},
   "outputs": [],
   "source": []
  },
  {
   "cell_type": "code",
   "execution_count": null,
   "id": "8c915a78-e06e-4243-afc5-6a3bad07b2f7",
   "metadata": {},
   "outputs": [],
   "source": []
  },
  {
   "cell_type": "code",
   "execution_count": null,
   "id": "d7c90750-7fe5-45b4-9a8b-fd382ae8b7c5",
   "metadata": {},
   "outputs": [],
   "source": []
  },
  {
   "cell_type": "code",
   "execution_count": 31,
   "id": "997b1a95",
   "metadata": {},
   "outputs": [
    {
     "name": "stdout",
     "output_type": "stream",
     "text": [
      "Var              Mean    StdDev\n",
      "-----------  --------  --------\n",
      "ACS married  0.712799  0.210776\n",
      "CEX married  0.466351  0.498878\n",
      "Var               Mean    StdDev\n",
      "------------  --------  --------\n",
      "ACS children  0.401664  0.183654\n",
      "CEX children  0.238125  0.425945\n"
     ]
    },
    {
     "data": {
      "image/png": "[encoded data removed]",
      "text/plain": [
       "<Figure size 1500x600 with 3 Axes>"
      ]
     },
     "metadata": {},
     "output_type": "display_data"
    },
    {
     "data": {
      "image/png": "[encoded data removed]",
      "text/plain": [
       "<Figure size 1500x600 with 3 Axes>"
      ]
     },
     "metadata": {},
     "output_type": "display_data"
    }
   ],
   "source": [
    "#\n",
    "# Family Type\n",
    "#\n",
    "# Basically - Married x Presence of Children\n",
    "\n",
    "fmli[\"married\"] = (fmli.FAM_TYPE < 6).astype(int)\n",
    "acs[\"married\"] = acs[\"B11003_002E\"]/acs[\"B11003_001E\"]\n",
    "compare(\"ACS married\",acs.married,\"CEX married\", fmli.married)\n",
    "\n",
    "fmli[\"children\"] = (fmli.FAM_TYPE.isin([2,3,4,6,7])).astype(int)\n",
    "# acs Married w Children, Single Dad w Children, Single Mom w Children\n",
    "acs[\"children\"] = (acs[\"B11003_003E\"]+acs[\"B11003_010E\"]+acs[\"B11003_016E\"])/acs[\"B11003_001E\"]\n",
    "compare(\"ACS children\",acs.children,\"CEX children\", fmli.children)\n"
   ]
  },
  {
   "cell_type": "code",
   "execution_count": null,
   "id": "7d883bbd-a657-4dd2-bb64-290abe8b18ac",
   "metadata": {},
   "outputs": [],
   "source": []
  },
  {
   "cell_type": "code",
   "execution_count": null,
   "id": "280ee362-8f69-4686-aa4a-7891b5c005c8",
   "metadata": {},
   "outputs": [],
   "source": []
  },
  {
   "cell_type": "code",
   "execution_count": null,
   "id": "3390f421-dd3a-420b-bc07-3a951cd039ed",
   "metadata": {},
   "outputs": [],
   "source": []
  },
  {
   "cell_type": "code",
   "execution_count": null,
   "id": "e263ba0b-d7f1-46ed-b199-37ef6e33d461",
   "metadata": {},
   "outputs": [],
   "source": []
  },
  {
   "cell_type": "code",
   "execution_count": null,
   "id": "3c41974f-1f50-4dd2-ae00-0f5006a32a56",
   "metadata": {},
   "outputs": [],
   "source": []
  },
  {
   "cell_type": "code",
   "execution_count": 31,
   "id": "66d599d8-fccc-4d5e-bcbf-11906b141f8d",
   "metadata": {},
   "outputs": [
    {
     "name": "stdout",
     "output_type": "stream",
     "text": [
      "Var            Mean    StdDev\n",
      "---------  --------  --------\n",
      "ACS white  0.669252  0.276739\n",
      "CEX white  0.800495  0.399637\n"
     ]
    },
    {
     "data": {
      "image/png": "[encoded data removed]",
      "text/plain": [
       "<Figure size 1500x600 with 3 Axes>"
      ]
     },
     "metadata": {},
     "output_type": "display_data"
    }
   ],
   "source": [
    "# \n",
    "# Race\n",
    "#\n",
    "\n",
    "# This may be where the model becomes an ensemble\n",
    "# with each basis model dedicated to a race\n",
    "\n",
    "fmli[\"white\"] = np.where(fmli.REF_RACE.astype(int) == 1,1,0)\n",
    "acs[\"white\"] = acs.B02001_002E / acs.B02001_001E # Race basis\n",
    "\n",
    "#REF_RACE\n",
    "    #1\tWhite\n",
    "    #2\tBlack\n",
    "    #3\tNative American\n",
    "    #4\tAsian\n",
    "    #5\tPacific Islander\n",
    "    #6\tMulti-race\n",
    "#REF_HISP\n",
    "    #1\tHispanic\n",
    "    #2\tNon-Hispanic\n",
    "\n",
    "# fmli.groupby(['REF_RACE','HISP_REF']).size()\n",
    "# 93% of Hispanics are White race\n",
    "\n",
    "# FMLI create indicators\n",
    "fmli['model_white'] = np.where((fmli.REF_RACE == 1) & (fmli.HISP_REF == 2),1,0)\n",
    "fmli['model_black'] = np.where((fmli.REF_RACE == 2) & (fmli.HISP_REF == 2),1,0)\n",
    "fmli['model_asian'] = np.where((fmli.REF_RACE == 4) & (fmli.HISP_REF == 2),1,0)\n",
    "fmli['model_other'] = np.where((~fmli.REF_RACE.isin([1,2,4])) & (fmli.HISP_REF == 2),1,0)\n",
    "fmli['model_hispanic'] = np.where(fmli.HISP_REF == 1,1,0)\n",
    "\n",
    "# ACS:\n",
    "#    B02001_001\tTotal:\n",
    "#    B02001_002\tWhite alone\n",
    "#    B02001_003\tBlack or African American alone\n",
    "#    B02001_004\tAmerican Indian and Alaska Native alone\n",
    "#    B02001_005\tAsian alone\n",
    "#    B02001_006\tNative Hawaiian and Other Pacific Islander alone\n",
    "#    B02001_007\tSome Other Race alone\n",
    "#    B02001_008\tTwo or More Races:\n",
    "#    B02001_009\tTwo races including Some Other Race\n",
    "#    B02001_010\tTwo races excluding Some Other Race, and three or more races\n",
    "# Hispanic:\n",
    "#    B03001_001\tTotal:\n",
    "#    B03001_002\tNot Hispanic or Latino\n",
    "#    B03001_003\tHispanic or Latino:\n",
    "\n",
    "# ACS create proportions\n",
    "acs['model_hispanic'] =  acs.B03003_003E.astype(int) / acs.B03003_001E.astype(int)\n",
    "acs['model_white'] =  (acs.B02001_002E.astype(int) / acs.B02001_001E.astype(int)) - acs['model_hispanic']\n",
    "acs['model_black'] =  acs.B02001_003E.astype(int) / acs.B02001_001E.astype(int)\n",
    "acs['model_asian'] =  acs.B02001_005E.astype(int) / acs.B02001_001E.astype(int)\n",
    "acs['model_other'] =  1 - acs.model_hispanic - acs.model_white - acs.model_black - acs.model_asian\n",
    "\n",
    "compare(\"ACS white\",acs.white,\"CEX white\", fmli.white)\n"
   ]
  },
  {
   "cell_type": "code",
   "execution_count": null,
   "id": "69577946-f8f3-464c-a0d4-9c843e51e2e8",
   "metadata": {},
   "outputs": [],
   "source": []
  },
  {
   "cell_type": "code",
   "execution_count": null,
   "id": "acc34658-dcf9-4249-b017-9d2228635b09",
   "metadata": {},
   "outputs": [],
   "source": []
  },
  {
   "cell_type": "code",
   "execution_count": null,
   "id": "b199b9f0-c930-483e-8c37-b4ec604345f4",
   "metadata": {},
   "outputs": [],
   "source": []
  },
  {
   "cell_type": "code",
   "execution_count": 9,
   "id": "187a0a7a-1434-48ce-b049-bc7135814136",
   "metadata": {},
   "outputs": [
    {
     "name": "stdout",
     "output_type": "stream",
     "text": [
      "Var                       Mean    StdDev\n",
      "--------------------  --------  --------\n",
      "ACS bedroomstwofewer  0.3736    0.260024\n",
      "CEX bedroomstwofewer  0.373249  0.483678\n"
     ]
    },
    {
     "data": {
      "image/png": "[encoded data removed]",
      "text/plain": [
       "<Figure size 1500x600 with 3 Axes>"
      ]
     },
     "metadata": {},
     "output_type": "display_data"
    }
   ],
   "source": [
    "#ACS:\tBedrooms \tUniverse:  Housing units\n",
    "#   B25041_001\tTotal:\n",
    "#   B25041_002\tNo bedroom\n",
    "#   B25041_003\t1 bedroom\n",
    "#   B25041_004\t2 bedrooms\n",
    "#   B25041_005\t3 bedrooms\n",
    "#   B25041_006\t4 bedrooms\n",
    "#   B25041_007\t5 or more bedrooms\n",
    "#FMLI:\n",
    "#   BEDROOMQ\n",
    "\n",
    "acs['bedroomstwofewer'] =  (acs.B25041_002E.astype(int)+acs.B25041_003E.astype(int)+acs.B25041_004E.astype(int)) / acs.B25041_001E.astype(int)\n",
    "fmli['bedroomstwofewer'] = np.where(fmli.BEDROOMQ<3,1,0)\n",
    "compare(\"ACS bedroomstwofewer\",acs.bedroomstwofewer,\"CEX bedroomstwofewer\", fmli.bedroomstwofewer)\n"
   ]
  },
  {
   "cell_type": "code",
   "execution_count": 12,
   "id": "a1e75e3e-a523-433a-9310-b43929be7996",
   "metadata": {},
   "outputs": [],
   "source": [
    "fmli['vehicles_0'] = np.where(fmli.VEHQ == 0,1,0)\n",
    "fmli['vehicles_1'] = np.where(fmli.VEHQ == 1,1,0)\n",
    "fmli['vehicles_2'] = np.where(fmli.VEHQ == 2,1,0)\n",
    "fmli['vehicles_3'] = np.where(fmli.VEHQ == 3,1,0)\n",
    "fmli['vehicles_4'] = np.where(fmli.VEHQ == 4,1,0)\n",
    "fmli['vehicles_5plus'] = np.where(fmli.VEHQ >= 5,1,0)\n"
   ]
  },
  {
   "cell_type": "code",
   "execution_count": null,
   "id": "278d6b09-002b-4bae-a9c4-63052119d3a0",
   "metadata": {},
   "outputs": [],
   "source": []
  },
  {
   "cell_type": "code",
   "execution_count": 11,
   "id": "6c0d8437-1227-4001-a9b3-7bec7f2295de",
   "metadata": {},
   "outputs": [
    {
     "data": {
      "text/plain": [
       "BEDROOMQ\n",
       "3.0     8827\n",
       "2.0     5443\n",
       "4.0     4115\n",
       "1.0     2865\n",
       "5.0      929\n",
       "6.0      166\n",
       "0.0      139\n",
       "7.0       33\n",
       "9.0        7\n",
       "8.0        6\n",
       "12.0       2\n",
       "10.0       2\n",
       "Name: count, dtype: int64"
      ]
     },
     "execution_count": 11,
     "metadata": {},
     "output_type": "execute_result"
    }
   ],
   "source": [
    "fmli.BEDROOMQ.value_counts()"
   ]
  },
  {
   "cell_type": "code",
   "execution_count": null,
   "id": "1e14cd68-eb5c-4b32-b578-be069e691d29",
   "metadata": {},
   "outputs": [],
   "source": [
    "fmli['bedrooms_0'] = np.where(fmli.BEDROOMQ == 0,1,0)\n",
    "fmli['bedrooms_1'] = np.where(fmli.BEDROOMQ == 1,1,0)\n",
    "fmli['bedrooms_2'] = np.where(fmli.BEDROOMQ == 2,1,0)\n",
    "fmli['bedrooms_3'] = np.where(fmli.BEDROOMQ == 3,1,0)\n",
    "fmli['bedrooms_4'] = np.where(fmli.BEDROOMQ == 4,1,0)\n",
    "fmli['bedrooms_5plus'] = np.where(fmli.BEDROOMQ >= 5,1,0)"
   ]
  },
  {
   "cell_type": "code",
   "execution_count": null,
   "id": "5f257603-d255-4961-8dad-5a48b0497889",
   "metadata": {},
   "outputs": [],
   "source": []
  },
  {
   "cell_type": "code",
   "execution_count": null,
   "id": "88c4a022-a998-4aa4-83e9-18123368afd7",
   "metadata": {},
   "outputs": [],
   "source": []
  },
  {
   "cell_type": "code",
   "execution_count": 5,
   "id": "d33f472d-9863-4c3e-abb4-22b879019ce4",
   "metadata": {},
   "outputs": [
    {
     "data": {
      "text/plain": [
       "Block Group 1; Census Tract 201; Autauga County; Alabama: Summary level: 150, state:01> county:001> tract:020100> block group:1             None\n",
       "Block Group 2; Census Tract 201; Autauga County; Alabama: Summary level: 150, state:01> county:001> tract:020100> block group:2             None\n",
       "Block Group 1; Census Tract 202; Autauga County; Alabama: Summary level: 150, state:01> county:001> tract:020200> block group:1             None\n",
       "Block Group 2; Census Tract 202; Autauga County; Alabama: Summary level: 150, state:01> county:001> tract:020200> block group:2             None\n",
       "Block Group 1; Census Tract 203; Autauga County; Alabama: Summary level: 150, state:01> county:001> tract:020300> block group:1             None\n",
       "                                                                                                                                            ... \n",
       "Block Group 1; Census Tract 7506.01; Yauco Municipio; Puerto Rico: Summary level: 150, state:72> county:153> tract:750601> block group:1    None\n",
       "Block Group 2; Census Tract 7506.01; Yauco Municipio; Puerto Rico: Summary level: 150, state:72> county:153> tract:750601> block group:2    None\n",
       "Block Group 3; Census Tract 7506.01; Yauco Municipio; Puerto Rico: Summary level: 150, state:72> county:153> tract:750601> block group:3    None\n",
       "Block Group 1; Census Tract 7506.02; Yauco Municipio; Puerto Rico: Summary level: 150, state:72> county:153> tract:750602> block group:1    None\n",
       "Block Group 2; Census Tract 7506.02; Yauco Municipio; Puerto Rico: Summary level: 150, state:72> county:153> tract:750602> block group:2    None\n",
       "Name: B25105_001E, Length: 239535, dtype: object"
      ]
     },
     "execution_count": 5,
     "metadata": {},
     "output_type": "execute_result"
    }
   ],
   "source": [
    "# House value\n",
    "# B25077_001\tMedian value (dollars) owner occupied housing units\n",
    "\n",
    "# Housing costs\n",
    "# B25104_001    all NA\n",
    "# B25105_001\tall NA, Median Monthly Housing Costs, occupied units \n",
    "\n",
    "\t\n",
    "\n"
   ]
  },
  {
   "cell_type": "code",
   "execution_count": null,
   "id": "3936c400-241d-4c38-9cdb-9e8b0d4061eb",
   "metadata": {},
   "outputs": [],
   "source": []
  },
  {
   "cell_type": "code",
   "execution_count": null,
   "id": "962abe18-e5b1-461d-8b22-4ffb9869c333",
   "metadata": {},
   "outputs": [],
   "source": []
  },
  {
   "cell_type": "code",
   "execution_count": 15,
   "id": "b6e81816-3b95-417f-8733-e458611b5bce",
   "metadata": {},
   "outputs": [
    {
     "name": "stdout",
     "output_type": "stream",
     "text": [
      "Var                 Mean    StdDev\n",
      "----------  ------------  --------\n",
      "ACS fuel_z  -3.59188e-15         1\n",
      "CEX fuel_z  -1.23076e-16         1\n"
     ]
    },
    {
     "data": {
      "image/png": "[encoded data removed]",
      "text/plain": [
       "<Figure size 1500x600 with 3 Axes>"
      ]
     },
     "metadata": {},
     "output_type": "display_data"
    }
   ],
   "source": [
    "# Fuel spending\n",
    "\n",
    "fmli['fuel_log'] = np.log(1+fmli['NTLGASCQ']+fmli['NTLGASPQ']+fmli['ELCTRCCQ'] + fmli['ELCTRCPQ']+fmli['ALLFULCQ']+fmli['ALLFULPQ'])\n",
    "fmli['fuel_z'] = (fmli['fuel_log']-fmli['fuel_log'].mean()) / fmli['fuel_log'].std()\n",
    "\n",
    "acs['fuel_log']  = np.log(1+acs['B25040_001E']-acs['B25040_010E'])\n",
    "acs['fuel_z']  = (acs['fuel_log']-acs['fuel_log'].mean()) / acs['fuel_log'].std()\n",
    "\n",
    "compare(\"ACS fuel_z\",acs.fuel_z,\"CEX fuel_z\", fmli.fuel_z)\n"
   ]
  },
  {
   "cell_type": "code",
   "execution_count": 16,
   "id": "d434ff0f-f4b3-45a2-98be-e57775b8ceb0",
   "metadata": {},
   "outputs": [
    {
     "data": {
      "text/plain": [
       "incbin\n",
       "E    0.224117\n",
       "D    0.208696\n",
       "F    0.179267\n",
       "C    0.163758\n",
       "B    0.130485\n",
       "A    0.057222\n",
       "G    0.036454\n",
       "Name: proportion, dtype: float64"
      ]
     },
     "execution_count": 16,
     "metadata": {},
     "output_type": "execute_result"
    }
   ],
   "source": [
    "fmli['fuelbin'] = np.where(fmli['fuel_z'] < -1.5, 'A',\n",
    "                 np.where(fmli['fuel_z'] < -.75, 'B',\n",
    "                 np.where(fmli['fuel_z'] < -.25, 'C',\n",
    "                 np.where(fmli['fuel_z'] < .25, 'D',\n",
    "                 np.where(fmli['fuel_z'] < .75, 'E', \n",
    "                 np.where(fmli['fuel_z'] < 1.5, 'F', 'G'))))))\n",
    "\n",
    "fmli.incbin.value_counts(normalize=True)"
   ]
  },
  {
   "cell_type": "code",
   "execution_count": null,
   "id": "e329e53a-1e43-4805-a23b-c339180a5eb0",
   "metadata": {},
   "outputs": [],
   "source": []
  },
  {
   "cell_type": "code",
   "execution_count": 11,
   "id": "7a7a0116-f623-4455-91a9-96168fdae2fa",
   "metadata": {},
   "outputs": [],
   "source": [
    "# Household Sizes\n",
    "\n",
    "# B11016_001\tTotal:\n",
    "# B11016_002\tFamily households:\n",
    "# B11016_003\t2-person household\n",
    "# B11016_004\t3-person household\n",
    "# B11016_005\t4-person household\n",
    "# B11016_006\t5-person household\n",
    "# B11016_007\t6-person household\n",
    "# B11016_008\t7-or-more person household\n",
    "# B11016_009\tNonfamily households:\n",
    "# B11016_010\t1-person household\n",
    "# B11016_011\t2-person household\n",
    "# B11016_012\t3-person household\n",
    "# B11016_013\t4-person household\n",
    "# B11016_014\t5-person household\n",
    "# B11016_015\t6-person household\n",
    "# B11016_016\t7-or-more person household\n",
    "\n",
    "acs['familysize_1'] = acs.B11016_010E\n",
    "acs['familysize_2'] = acs.B11016_003E + acs.B11016_011E\n",
    "acs['familysize_3'] = acs.B11016_004E + acs.B11016_012E\n",
    "acs['familysize_4'] = acs.B11016_005E + acs.B11016_013E\n",
    "acs['familysize_5'] = acs.B11016_006E + acs.B11016_014E\n",
    "acs['familysize_6'] = acs.B11016_007E + acs.B11016_015E\n",
    "acs['familysize_7more'] = acs.B11016_008E + acs.B11016_016E\n",
    "\n",
    "fmli['familysize_1'] = np.where(fmli.FAM_SIZE == 1, 1, 0)\n",
    "fmli['familysize_2'] = np.where(fmli.FAM_SIZE == 2, 1, 0)\n",
    "fmli['familysize_3'] = np.where(fmli.FAM_SIZE == 3, 1, 0)\n",
    "fmli['familysize_4'] = np.where(fmli.FAM_SIZE == 4, 1, 0)\n",
    "fmli['familysize_5'] = np.where(fmli.FAM_SIZE == 5, 1, 0)\n",
    "fmli['familysize_6'] = np.where(fmli.FAM_SIZE == 6, 1, 0)\n",
    "fmli['familysize_7more'] = np.where(fmli.FAM_SIZE >= 7, 1, 0)\n"
   ]
  },
  {
   "cell_type": "code",
   "execution_count": null,
   "id": "e2357f3f-449a-44dd-824c-8c984949dd46",
   "metadata": {},
   "outputs": [],
   "source": []
  },
  {
   "cell_type": "code",
   "execution_count": null,
   "id": "b7085637-7b2d-45af-980b-50b43766ccab",
   "metadata": {},
   "outputs": [],
   "source": []
  },
  {
   "cell_type": "code",
   "execution_count": null,
   "id": "8b5ca8ae-20c5-47f0-bc20-95515a6249f2",
   "metadata": {},
   "outputs": [],
   "source": [
    "#######################################################################################################\n",
    "#\n",
    "# Draft models\n",
    "#\n",
    "##################################################################################"
   ]
  },
  {
   "cell_type": "code",
   "execution_count": 22,
   "id": "e7ead894-f914-47b7-8c7d-c40590652c7c",
   "metadata": {},
   "outputs": [
    {
     "name": "stdout",
     "output_type": "stream",
     "text": [
      "r2 0.47310760425856724\n"
     ]
    }
   ],
   "source": [
    "X = fmli[independents]\n",
    "y = fmli['TOTEXP']\n",
    "X_train, X_test, y_train, y_test = train_test_split(X, y, test_size=0.2, random_state=123)\n",
    "\n",
    "# \n",
    "#import statsmodels.api as sm\n",
    "#model = sm.OLS(y,X).fit()\n",
    "#print(model.summary())\n",
    "# R2 is .778\n",
    "\n",
    "# Polynomial regression \n",
    "# R2 is 0.5243994759790682\n",
    "#\n",
    "\n",
    "# XGBoostRegressor \n",
    "# R2 is 0.49064753153485297\n",
    "\"\"\"\n",
    "from xgboost import XGBRegressor\n",
    "from sklearn.metrics import r2_score, mean_squared_error\n",
    "from sklearn.model_selection import train_test_split\n",
    "\n",
    "X = fmli[independents]\n",
    "y = fmli['TOTEXP']\n",
    "\n",
    "print(\"Fitting\")\n",
    "model = XGBRegressor(n_estimators=1000, max_depth=7, eta=0.1, subsample=0.7, colsample_bytree=0.8).fit(X_train, y_train)\n",
    "print(\"Predicting\")\n",
    "y_pred = model.predict(X_test)\n",
    "print(\"rmse:\",np.sqrt(mean_squared_error(y_test, y_pred)))\n",
    "print(\"r2\", r2_score(y_test, y_pred))\n",
    "\"\"\"\n",
    "\n",
    "# Decision Tree Regressor\n",
    "# R2 is .4731\n",
    "\"\"\"\n",
    "from sklearn.tree import DecisionTreeRegressor\n",
    "regressor = DecisionTreeRegressor(max_depth=2)\n",
    "regressor.fit(X_train, y_train)\n",
    "y_pred = regressor.predict(X_test)\n",
    "r2 = r2_score(y_test, y_pred)\n",
    "print(\"r2\",r2)\n",
    "\"\"\""
   ]
  },
  {
   "cell_type": "code",
   "execution_count": null,
   "id": "e6d1f9d8-d71a-4a06-847e-63400962130a",
   "metadata": {},
   "outputs": [],
   "source": []
  },
  {
   "cell_type": "code",
   "execution_count": null,
   "id": "aa3e010e-ddfe-4d43-88ca-19c2928eed3e",
   "metadata": {},
   "outputs": [],
   "source": []
  },
  {
   "cell_type": "code",
   "execution_count": 3,
   "id": "85db5e76",
   "metadata": {},
   "outputs": [
    {
     "name": "stdout",
     "output_type": "stream",
     "text": [
      "Var            Mean    StdDev\n",
      "----------  -------  --------\n",
      "ACS Income  53798.1   12596.8\n",
      "CEX Income  69423.3   60039.3\n"
     ]
    },
    {
     "data": {
      "image/png": "[encoded data removed]",
      "text/plain": [
       "<Figure size 432x288 with 3 Axes>"
      ]
     },
     "metadata": {
      "needs_background": "light"
     },
     "output_type": "display_data"
    }
   ],
   "source": [
    "######################################################################################################\n",
    "#\n",
    "# FIRST ATTEMPTS\n",
    "#\n",
    "#######################################################################################################\n",
    "\n",
    "##########\n",
    "#Var            Mean    StdDev\n",
    "#----------  -------  --------\n",
    "#ACS Income  53489.2   10479     NORMALLY DISTRIBUTED\n",
    "#CEX Income  86563     85839.5   POISSON DISTRIBUTED\n",
    "acsinc = pd.read_csv(ACSDIR + \"ACSDT5Y2020.B19013_2022-10-10T170857-County\\\\ACSDT5Y2020.B19013-Data.csv\").drop([0],axis=0)\n",
    "acsinc['B19013_001E'] = acsinc['B19013_001E'].astype(str)\n",
    "acsinc['B19013_001E'] = acsinc['B19013_001E'].replace('-',np.nan)\n",
    "acsinc['B19013_001E'] = acsinc['B19013_001E'].astype(float)\n",
    "\n",
    "a = acsinc['B19013_001E'].dropna().sort_values().reset_index(drop=True)\n",
    "aoutliers = 2*int(len(a)/100)\n",
    "\n",
    "b = fmli[fmli.FINCBTXM < 300000].FINCBTXM.astype(float)\n",
    "boutliers = 2*int(len(b)/100)\n",
    "\n",
    "c = msacompare[\"Income before taxes\"]\n",
    "\n",
    "compare('ACS Income',a[aoutliers:len(a)-aoutliers],\n",
    "        'CEX Income',b[boutliers:len(b)-boutliers],\n",
    "        'MSA Income',c)\n"
   ]
  },
  {
   "cell_type": "code",
   "execution_count": null,
   "id": "681367c6",
   "metadata": {},
   "outputs": [],
   "source": []
  },
  {
   "cell_type": "code",
   "execution_count": 18,
   "id": "ef286c2f-7323-4924-8eff-9a2f322344c4",
   "metadata": {},
   "outputs": [
    {
     "name": "stdout",
     "output_type": "stream",
     "text": [
      "Var          Mean    StdDev\n",
      "--------  -------  --------\n",
      "ACS rent  1348.38   634.643\n",
      "CEX rent  1340.38  2454.89\n"
     ]
    },
    {
     "data": {
      "image/png": "[encoded data removed]",
      "text/plain": [
       "<Figure size 1500x600 with 3 Axes>"
      ]
     },
     "metadata": {},
     "output_type": "display_data"
    }
   ],
   "source": [
    "# Rent\n",
    "# ACS:\n",
    "#    B25064_001E  Median Gross Rent\n",
    "# FMLI\n",
    "#    RENDWECQ,RENDWEPQ   Rented Dwelling this/last quarter\n",
    "\n",
    "\n",
    "# HERES A PROBLEM - THIS IS ONLY MEANINGFUL FOR THE RENTERS IN A GEOG\n",
    "# Median Gross Rent has many NAs with the value -666666666  (27% of block groups)\n",
    "# I can't find an equivalent owner/mortgage cost\n",
    "\n",
    "fmli['rent_log'] = np.log(1+fmli['RENDWECQ'] + fmli['RENDWEPQ'])\n",
    "acs['rent_log'] = np.log(1+acs['B25064_001E'])\n",
    "\n",
    "compare(\"ACS rent\",acs.rent[acs['B25064_001E']>0],\"CEX rent\", fmli.rent)\n",
    "\n"
   ]
  },
  {
   "cell_type": "code",
   "execution_count": null,
   "id": "26bad340",
   "metadata": {},
   "outputs": [],
   "source": [
    "# Compare proportions to BLS \n",
    "# https://www.bls.gov/news.release/cesan.nr0.htm\n",
    "# for c in dependents:\n",
    "#     fmli[\"WTD_\"+c] = fmli[\"WTD_\"+c+\"CQ\"] +fmli[\"WTD_\"+c+\"PQ\"] \n",
    "# fmli[[\"WTD_\"+c for c in dependents]].sum() / fmli.WTD_TOTEXP.sum()"
   ]
  },
  {
   "cell_type": "code",
   "execution_count": null,
   "id": "c47e5240",
   "metadata": {},
   "outputs": [],
   "source": []
  },
  {
   "cell_type": "code",
   "execution_count": 16,
   "id": "a9e429d8",
   "metadata": {},
   "outputs": [
    {
     "name": "stdout",
     "output_type": "stream",
     "text": [
      "Var          Mean    StdDev\n",
      "--------  -------  --------\n",
      "ACS Rent  2329.45   635.263\n",
      "CEX Rent  1476.5   1034.87\n"
     ]
    },
    {
     "data": {
      "image/png": "[encoded data removed]",
      "text/plain": [
       "<Figure size 432x288 with 2 Axes>"
      ]
     },
     "metadata": {
      "needs_background": "light"
     },
     "output_type": "display_data"
    }
   ],
   "source": [
    "# \n",
    "# Rent\n",
    "#\n",
    "\n",
    "# ACS is monthly Median Gross Rent (Dollars) which includes home utilities and fuel costs\n",
    "#B25070\n",
    "\n",
    "# CEX is quarterly \n",
    "#        RNTXRPCQ \"Rent excluding rent as pay this quarter\" \n",
    "#        RENTEQVX If someone were to rent your home today, how much do you think it would rent for monthly, unfurnished and without utilities?\n",
    "#\n",
    "#        SHELTCQ \"Shelter this quarter\"\n",
    "\n",
    "# Again CEX looks \n",
    "\n",
    "acsrent = pd.read_csv(ACSDIR + \"ACSDT5Y2020.B25064_2022-10-19T164615\\\\ACSDT5Y2020.B25064-Data.csv\",dtype=object).drop([0],axis=0)\n",
    "acsrent['B25064_001E'] = acsrent['B25064_001E'].astype(str)\n",
    "acsrent['B25064_001E'] = acsrent['B25064_001E'].replace('-',np.nan)\n",
    "acsrent['B25064_001E'] = acsrent['B25064_001E'].astype(float)\n",
    "\n",
    "a = 3 * acsrent['B25064_001E'].dropna().sort_values().reset_index(drop=True)\n",
    "aoutliers = 1*int(len(a)/100)\n",
    "#b = fmli.RENDWECQ.astype(float) + fmli.UTILCQ.astype(float)\n",
    "b = fmli.SHELTCQ.astype(float)\n",
    "b = b[(b>200) & (b<5000)]\n",
    "boutliers = 5*int(len(b)/100)\n",
    "\n",
    "compare('ACS Rent',a[aoutliers:len(a)-aoutliers],\n",
    "        'CEX Rent',b[boutliers:len(b)-boutliers])\n"
   ]
  },
  {
   "cell_type": "code",
   "execution_count": 84,
   "id": "eed8bf95-0c4d-48f6-8968-297648d65a72",
   "metadata": {},
   "outputs": [
    {
     "name": "stdout",
     "output_type": "stream",
     "text": [
      "Var                Mean    StdDev\n",
      "-------------  --------  --------\n",
      "ACS ownership  0.656647  0.272422\n",
      "CEX ownership  0.435951  0.495892\n"
     ]
    },
    {
     "data": {
      "image/png": "[encoded data removed]",
      "text/plain": [
       "<Figure size 1500x600 with 3 Axes>"
      ]
     },
     "metadata": {},
     "output_type": "display_data"
    }
   ],
   "source": [
    "#\n",
    "# Tenure\n",
    "#\n",
    "acs['ownership'] = acs[\"B25003_002E\"].astype(float)/acs[\"B25003_001E\"].astype(float)\n",
    "fmli['ownership'] = (fmli.OWNDWECQ > 0).astype(int)\n",
    "compare(\"ACS ownership\",acs.ownership,\"CEX ownership\", fmli.ownership)"
   ]
  },
  {
   "cell_type": "code",
   "execution_count": null,
   "id": "9c8288ba-8227-465f-bf1f-7d545d39b339",
   "metadata": {},
   "outputs": [],
   "source": []
  },
  {
   "cell_type": "code",
   "execution_count": null,
   "id": "3854c43f-0c14-4a0e-a32e-ed44ec6cc089",
   "metadata": {},
   "outputs": [],
   "source": []
  },
  {
   "cell_type": "code",
   "execution_count": 34,
   "id": "09333ddc-3474-4483-924e-fe344db6697b",
   "metadata": {},
   "outputs": [
    {
     "data": {
      "text/plain": [
       "(1654, 904)"
      ]
     },
     "execution_count": 34,
     "metadata": {},
     "output_type": "execute_result"
    }
   ],
   "source": [
    "fmli[fmli.fuel == 0].shape"
   ]
  },
  {
   "cell_type": "code",
   "execution_count": 35,
   "id": "63b7fa70-20c8-48e2-8b30-77ff48e5f1e9",
   "metadata": {},
   "outputs": [
    {
     "data": {
      "text/plain": [
       "(22631, 904)"
      ]
     },
     "execution_count": 35,
     "metadata": {},
     "output_type": "execute_result"
    }
   ],
   "source": [
    "fmli.shape"
   ]
  },
  {
   "cell_type": "code",
   "execution_count": 38,
   "id": "d5728f86-598b-4777-9d54-228b4fbbe728",
   "metadata": {},
   "outputs": [],
   "source": []
  },
  {
   "cell_type": "code",
   "execution_count": null,
   "id": "6832ad11-76a6-4cb3-a12b-1bed2af1e901",
   "metadata": {},
   "outputs": [],
   "source": []
  },
  {
   "cell_type": "code",
   "execution_count": null,
   "id": "fd777ebd-3203-4579-9b28-85d129b104d8",
   "metadata": {},
   "outputs": [],
   "source": []
  },
  {
   "cell_type": "code",
   "execution_count": null,
   "id": "3ec6e2a2-776d-489d-8f32-a3b54d072c58",
   "metadata": {},
   "outputs": [],
   "source": []
  },
  {
   "cell_type": "code",
   "execution_count": null,
   "id": "5c0d9af9-faf6-45e8-a6d9-07c99c88b52b",
   "metadata": {},
   "outputs": [],
   "source": []
  },
  {
   "cell_type": "code",
   "execution_count": null,
   "id": "bb3d3265-3bb6-4d74-bbce-988f8e4379bd",
   "metadata": {},
   "outputs": [],
   "source": []
  },
  {
   "cell_type": "code",
   "execution_count": null,
   "id": "2cbbecc9-e0ae-4a2c-8f0d-53588f4bb668",
   "metadata": {},
   "outputs": [],
   "source": []
  },
  {
   "cell_type": "code",
   "execution_count": null,
   "id": "32c9eb03-27ad-43bd-8f07-e17c6f9805de",
   "metadata": {},
   "outputs": [],
   "source": []
  },
  {
   "cell_type": "code",
   "execution_count": 28,
   "id": "66e68a89-f936-4f94-806b-714fa67d8b49",
   "metadata": {},
   "outputs": [
    {
     "data": {
      "text/plain": [
       "0"
      ]
     },
     "execution_count": 28,
     "metadata": {},
     "output_type": "execute_result"
    }
   ],
   "source": [
    "sum(fmli.fuel <0)"
   ]
  },
  {
   "cell_type": "code",
   "execution_count": null,
   "id": "88a4fda2-b89a-49a8-8998-61e167ebbc19",
   "metadata": {},
   "outputs": [],
   "source": []
  },
  {
   "cell_type": "code",
   "execution_count": null,
   "id": "68210f2e-4be7-4843-86c3-27c81e9ac6e3",
   "metadata": {},
   "outputs": [],
   "source": []
  },
  {
   "cell_type": "code",
   "execution_count": null,
   "id": "40bb820a-b5c3-4d76-885e-74ee74172285",
   "metadata": {},
   "outputs": [],
   "source": []
  },
  {
   "cell_type": "code",
   "execution_count": null,
   "id": "43632ff4-8fb0-48cb-8659-d0c2d7dbfac9",
   "metadata": {},
   "outputs": [],
   "source": []
  },
  {
   "cell_type": "code",
   "execution_count": null,
   "id": "cc12285a-8296-4317-acea-1d6ad175da3e",
   "metadata": {},
   "outputs": [],
   "source": []
  },
  {
   "cell_type": "code",
   "execution_count": null,
   "id": "08f69254-ef99-483b-b9eb-9ab0e2afde40",
   "metadata": {},
   "outputs": [],
   "source": []
  },
  {
   "cell_type": "code",
   "execution_count": null,
   "id": "5efa8574-41f1-4fbb-bdf6-732414b48d87",
   "metadata": {},
   "outputs": [],
   "source": []
  },
  {
   "cell_type": "code",
   "execution_count": null,
   "id": "4cb2f325-ffb2-45f1-812a-c7cc87ee9d11",
   "metadata": {},
   "outputs": [],
   "source": []
  },
  {
   "cell_type": "code",
   "execution_count": null,
   "id": "c5aa478e-f115-49ff-98b6-5b1c99df8a7f",
   "metadata": {},
   "outputs": [],
   "source": []
  },
  {
   "cell_type": "code",
   "execution_count": null,
   "id": "c21a8e64-9678-4395-8d0c-cb6e186f67b5",
   "metadata": {},
   "outputs": [],
   "source": []
  },
  {
   "cell_type": "code",
   "execution_count": 18,
   "id": "b9c5fd52",
   "metadata": {},
   "outputs": [
    {
     "name": "stdout",
     "output_type": "stream",
     "text": [
      "Var                Mean     StdDev\n",
      "-------------  --------  ---------\n",
      "ACS Ownership  0.633583  0.0672982\n",
      "CEX Ownership  0.621537  0.0573511\n",
      "Var                 Mean     StdDev\n",
      "--------------  --------  ---------\n",
      "ACS Rentership  0.350275  0.0699006\n",
      "CEX Rentership  0.378463  0.0573511\n",
      "Var                Mean      StdDev\n",
      "-------------  --------  ----------\n",
      "ACS Totalship  0.983858  0.00816949\n",
      "CEX Totalship  1         0\n"
     ]
    },
    {
     "data": {
      "image/png": "[encoded data removed]",
      "text/plain": [
       "<Figure size 432x288 with 3 Axes>"
      ]
     },
     "metadata": {
      "needs_background": "light"
     },
     "output_type": "display_data"
    },
    {
     "data": {
      "image/png": "[encoded data removed]",
      "text/plain": [
       "<Figure size 432x288 with 3 Axes>"
      ]
     },
     "metadata": {
      "needs_background": "light"
     },
     "output_type": "display_data"
    },
    {
     "data": {
      "image/png": "[encoded data removed]",
      "text/plain": [
       "<Figure size 432x288 with 3 Axes>"
      ]
     },
     "metadata": {
      "needs_background": "light"
     },
     "output_type": "display_data"
    }
   ],
   "source": [
    "#\n",
    "# Tenure\n",
    "#\n",
    "# ACS \"B25003_001E\",\"B25003_002E\",\"B25003_003E\"\n",
    "# CEX CUTENURE\n",
    "\n",
    "# Make them both proportions\n",
    "#acstenure = pd.read_csv(ACSDIR + \"ACSDT5Y2020.B25003_2022-10-26T153046-MSA\\\\ACSDT5Y2020.B25003-Data.csv\").drop([0],axis=0)\n",
    "#acstenure = acstenure[acstenure.GEO_ID.str[-5:].isin(msacodes[\"OMB MSA 1\"])]\n",
    "#acstenure[\"ownership\"]  = acstenure[\"B25003_002E\"].astype(float)/acstenure[\"B25003_001E\"].astype(float)\n",
    "#acstenure[\"rentership\"] = acstenure[\"B25003_003E\"].astype(float)/acstenure[\"B25003_001E\"].astype(float)\n",
    "#acstenure['state'] = acstenure.GEO_ID.str[9:11]\n",
    "\n",
    "\n",
    "# 1 \tOwned w/mortgage:\n",
    "# 2 \tOwned w/o mortgage:\n",
    "# 3 \tOwned mortgage NR:\n",
    "# 4 \tRented\n",
    "# 5 \tOccupied w/o payment of cash rent:\n",
    "# 6 \tStudent housing\n",
    "#\n",
    "# Im guessing this could be turned into proportions  -  % Owned  vs % Renting vs % Other             \n",
    "              \n",
    "fmli[\"PSU\"].fillna(\"NA\",inplace = True)\n",
    "fmli[\"POPSIZE\"].fillna(\"NA\",inplace = True)\n",
    "fmli[\"BLS_URBN\"].fillna(\"NA\",inplace = True)\n",
    "fmli[\"geog\"] = fmli[\"PSU\"] + \"-\" + fmli[\"POPSIZE\"] + \"-\" + fmli[\"BLS_URBN\"]\n",
    "\n",
    "df = fmli[['geog','CUTENURE']].groupby(['geog','CUTENURE']).size().to_frame('size').reset_index()\n",
    "newdf = pd.pivot_table(df,index=[\"geog\"],columns='CUTENURE',aggfunc='sum').reset_index()\n",
    "newdf.columns = ['geog','1','2','4','5','6']\n",
    "newdf[\"sum\"] = newdf.sum(axis=1)\n",
    "newdf[\"ownership\"] = (newdf[\"1\"]+newdf[\"2\"] )/ newdf[\"sum\"]\n",
    "newdf[\"rentership\"] = newdf[\"4\"]/ newdf[\"sum\"]\n",
    "\n",
    "a = newdf[\"ownership\"]\n",
    "#b = acstenure[[\"state\",\"ownership\",\"rentership\"]].groupby('state').mean()[\"ownership\"]\n",
    "b = acstenure[\"ownership\"]\n",
    "aoutliers = 10*int(len(a)/100)\n",
    "boutliers = 10*int(len(b)/100)\n",
    "\n",
    "compare('ACS Ownership',a[aoutliers:len(a)-aoutliers],\n",
    "        'CEX Ownership',b[boutliers:len(b)-boutliers])\n",
    "\n",
    "a = newdf[\"rentership\"]\n",
    "#b = acstenure[[\"state\",\"ownership\",\"rentership\"]].groupby('state').mean()[\"rentership\"]\n",
    "b = acstenure[\"rentership\"]\n",
    "aoutliers = 10*int(len(a)/100)\n",
    "boutliers = 10*int(len(b)/100)\n",
    "\n",
    "compare('ACS Rentership',a[aoutliers:len(a)-aoutliers],\n",
    "        'CEX Rentership',b[boutliers:len(b)-boutliers])\n",
    "\n",
    "a = newdf[\"rentership\"]+newdf[\"ownership\"]\n",
    "b = acstenure[\"rentership\"]+acstenure[\"ownership\"]\n",
    "\n",
    "compare('ACS Totalship',a[aoutliers:len(a)-aoutliers],\n",
    "        'CEX Totalship',b[boutliers:len(b)-boutliers])\n",
    "\n"
   ]
  },
  {
   "cell_type": "code",
   "execution_count": null,
   "id": "daaa3bb1",
   "metadata": {},
   "outputs": [],
   "source": []
  },
  {
   "cell_type": "code",
   "execution_count": null,
   "id": "31540ffc",
   "metadata": {},
   "outputs": [],
   "source": []
  },
  {
   "cell_type": "code",
   "execution_count": null,
   "id": "d9344c02",
   "metadata": {},
   "outputs": [],
   "source": []
  },
  {
   "cell_type": "code",
   "execution_count": null,
   "id": "8c9b0033",
   "metadata": {},
   "outputs": [],
   "source": []
  },
  {
   "cell_type": "code",
   "execution_count": null,
   "id": "37d335c9",
   "metadata": {},
   "outputs": [],
   "source": []
  },
  {
   "cell_type": "code",
   "execution_count": 19,
   "id": "b2b9f3da",
   "metadata": {},
   "outputs": [
    {
     "name": "stdout",
     "output_type": "stream",
     "text": [
      "Var              Mean    StdDev\n",
      "-----------  --------  --------\n",
      "ACS white %  0.622222  0.129452\n",
      "CEX white %  0.756088  0.129692\n",
      "Var              Mean     StdDev\n",
      "-----------  --------  ---------\n",
      "ACS black %  0.137286  0.0878924\n",
      "CEX black %  0.122702  0.0816619\n",
      "Var                 Mean     StdDev\n",
      "------------  ----------  ---------\n",
      "ACS native %  0.00789962  0.0144195\n",
      "CEX native %  0.00608222  0.0114575\n",
      "Var               Mean     StdDev\n",
      "-----------  ---------  ---------\n",
      "ACS asian %  0.0975699  0.0893671\n",
      "CEX asian %  0.086646   0.0975392\n",
      "Var                  Mean     StdDev\n",
      "-------------  ----------  ---------\n",
      "ACS pacific %  0.00686581  0.0208337\n",
      "CEX pacific %  0.00691422  0.0149378\n",
      "Var               Mean     StdDev\n",
      "-----------  ---------  ---------\n",
      "ACS other %  0.128157   0.0648396\n",
      "CEX other %  0.0187239  0.0308957\n"
     ]
    },
    {
     "data": {
      "image/png": "[encoded data removed]",
      "text/plain": [
       "<Figure size 432x288 with 3 Axes>"
      ]
     },
     "metadata": {
      "needs_background": "light"
     },
     "output_type": "display_data"
    },
    {
     "data": {
      "image/png": "[encoded data removed]",
      "text/plain": [
       "<Figure size 432x288 with 3 Axes>"
      ]
     },
     "metadata": {
      "needs_background": "light"
     },
     "output_type": "display_data"
    },
    {
     "data": {
      "image/png": "[encoded data removed]",
      "text/plain": [
       "<Figure size 432x288 with 3 Axes>"
      ]
     },
     "metadata": {
      "needs_background": "light"
     },
     "output_type": "display_data"
    },
    {
     "data": {
      "image/png": "[encoded data removed]",
      "text/plain": [
       "<Figure size 432x288 with 3 Axes>"
      ]
     },
     "metadata": {
      "needs_background": "light"
     },
     "output_type": "display_data"
    },
    {
     "data": {
      "image/png": "[encoded data removed]",
      "text/plain": [
       "<Figure size 432x288 with 3 Axes>"
      ]
     },
     "metadata": {
      "needs_background": "light"
     },
     "output_type": "display_data"
    },
    {
     "data": {
      "image/png": "[encoded data removed]",
      "text/plain": [
       "<Figure size 432x288 with 3 Axes>"
      ]
     },
     "metadata": {
      "needs_background": "light"
     },
     "output_type": "display_data"
    }
   ],
   "source": [
    "#\n",
    "# Proportion non-white race\n",
    "#\n",
    "\n",
    "acsrace = pd.read_csv(ACSDIR + \"ACSDT5Y2020.B02001_2022-10-26T175703-MSA\\\\ACSDT5Y2020.B02001-Data.csv\").drop([0],axis=0)\n",
    "\n",
    "for var in ['1','2','3','4','5','6']:\n",
    "    acsrace[\"B02001_00\"+var+\"E\"] = acsrace[\"B02001_00\"+var+\"E\"].astype(float)\n",
    "\n",
    "acsrace[\"race_white\"]  = acsrace[\"B02001_002E\"]/acsrace[\"B02001_001E\"]\n",
    "acsrace[\"race_black\"]  = acsrace[\"B02001_003E\"]/acsrace[\"B02001_001E\"]\n",
    "acsrace[\"race_native\"] = acsrace[\"B02001_004E\"]/acsrace[\"B02001_001E\"]\n",
    "acsrace[\"race_asian\"]  = acsrace[\"B02001_005E\"]/acsrace[\"B02001_001E\"]\n",
    "acsrace[\"race_pacific\"]  = acsrace[\"B02001_006E\"]/acsrace[\"B02001_001E\"]\n",
    "acsrace[\"race_other\"]  = 1 - (acsrace[\"race_white\"] +\\\n",
    "                              acsrace[\"race_black\"] +\n",
    "                              acsrace[\"race_native\"] +\n",
    "                              acsrace[\"race_asian\"] +\n",
    "                              acsrace[\"race_pacific\"] )\n",
    "\n",
    "acsrace = acsrace[acsrace.GEO_ID.str[-5:].isin(msacodes[\"OMB MSA 1\"])]\n",
    "\n",
    "# fmli.REF_RACE\n",
    "#1\tWhite\n",
    "#2\tBlack\n",
    "#3\tNative American\n",
    "#4\tAsian\n",
    "#5\tPacific Islander\n",
    "#6\tMulti-race\n",
    "\n",
    "# In general, we're going to have to summarize the fmli, by its geog\n",
    "# SO: flags like sex, race, etc become counts\n",
    "pumdrace = fmli[['PSU','REF_RACE']].groupby(['PSU','REF_RACE']).size().to_frame('size').reset_index()\n",
    "newdf = pd.pivot_table(pumdrace,index=[\"PSU\"],columns='REF_RACE',aggfunc='sum').reset_index()\n",
    "newdf.columns =  ['PSU','1','2','3','4','5','6']\n",
    "newdf[\"sum\"] = newdf.sum(axis=1)\n",
    "\n",
    "newdf[\"race_white\"]   = newdf[\"1\"]/ newdf[\"sum\"]\n",
    "newdf[\"race_black\"]   = newdf[\"2\"]/ newdf[\"sum\"]\n",
    "newdf[\"race_native\"]  = newdf[\"3\"]/ newdf[\"sum\"]\n",
    "newdf[\"race_asian\"]   = newdf[\"4\"]/ newdf[\"sum\"]\n",
    "newdf[\"race_pacific\"] = newdf[\"5\"]/ newdf[\"sum\"]\n",
    "newdf[\"race_other\"]   = 1 - (newdf[\"race_white\"] + \\\n",
    "                            newdf[\"race_black\"] +\n",
    "                            newdf[\"race_native\"] +\n",
    "                            newdf[\"race_asian\"] +\n",
    "                            newdf[\"race_pacific\"] )\n",
    "newdf.fillna(0,inplace=True)\n",
    "\n",
    "for race in ['white','black','native','asian','pacific','other']:\n",
    "    a = acsrace[\"race_\" + race]\n",
    "    b = newdf[\"race_\" + race]\n",
    "\n",
    "    aoutliers = 5*int(len(a)/100)\n",
    "    boutliers = 5*int(len(b)/100)\n",
    "\n",
    "    compare('ACS '+race+' %',a[aoutliers:len(a)-aoutliers],\n",
    "            'CEX '+race+' %',b[boutliers:len(b)-boutliers])\n"
   ]
  },
  {
   "cell_type": "code",
   "execution_count": null,
   "id": "e82e4c01",
   "metadata": {},
   "outputs": [],
   "source": []
  },
  {
   "cell_type": "code",
   "execution_count": null,
   "id": "c361b30a",
   "metadata": {},
   "outputs": [],
   "source": [
    "\n",
    "#\n",
    "# Get MSA Population Density with B01001e1 and ALAND\n",
    "#\n",
    "\n",
    "print(\"Get MSA Population Density\")\n",
    "\n",
    "# Land Area from TIGER\\Line\n",
    "import geopandas as gpd\n",
    "acstiger = gpd.read_file(\"D:\\\\Open Environments\\\\data\\\\census\\\\tiger\\\\tl_2021_us_cbsa\")\n",
    "acstiger[\"GEOID\"] = acstiger[\"GEOID\"].astype(str)\n",
    "\n",
    "# Population from ACS TIGER\\Line\n",
    "ACSDIR = \"D:\\\\Open Environments\\\\data\\\\census\\\\acs\\\\acs5\\\\2020\\\\\"\n",
    "B01 = \"ACSDT5Y2020.B01001_2022-10-05T135613\\\\ACSDT5Y2020.B01001-Data.csv\"\n",
    "acspop = pd.read_csv(ACSDIR + B01)\n",
    "acspop.drop([0],inplace=True)   # first row is just long desc of each column name\n",
    "msapop[\"MSA\"] = msapop[\"GEO_ID\"].str[-5:]\n",
    "\n",
    "# Three way join - pop,land,codes\n",
    "acspopland = pd.merge(acstiger,acspop,left_on=\"GEOID\",right_on=\"MSA\",how=\"inner\")[[\"MSA\",\"B01001_001E\",\"ALAND\"]]\n",
    "acspopland[\"B01001_001E\"] = acspopland[\"B01001_001E\"].astype(int)\n",
    "acspopland[\"msadensity\"] = acspopland[\"B01001_001E\"] / (acspopland[\"ALAND\"] / 1000000)\n"
   ]
  },
  {
   "cell_type": "code",
   "execution_count": null,
   "id": "1cef459b",
   "metadata": {},
   "outputs": [],
   "source": []
  },
  {
   "cell_type": "code",
   "execution_count": null,
   "id": "51748fdb",
   "metadata": {},
   "outputs": [],
   "source": [
    "import pandas as pd\n",
    "import numpy as np\n",
    "#import geopandas as gpd\n",
    "from matplotlib import pyplot as plt\n",
    "import seaborn as sb\n",
    "\n",
    "ACSDIR = \"D:\\\\Open Environments\\\\data\\\\census\\\\acs\\\\acs5\\\\2020\\\\\"\n",
    "MSADIR = \"D:\\\\Open Environments\\\\data\\\\bls\\\\cex\\\\msa\\\\\"\n",
    "REGIONS = ['northeast', 'south', 'midwest', 'west']\n",
    "YEARS = ['2020']\n",
    "\n",
    "#\n",
    "# Get the PUMD\n",
    "#\n",
    "print(\"Get the PUMD\")\n",
    "fmli = pd.read_pickle('fmli.pkl')\n",
    "#fmld = pd.read_pickle('fmld.pkl')\n",
    "#expd = pd.read_pickle('expd.pkl')\n",
    "#mtbi = pd.read_pickle('mtbi.pkl')\n",
    "\n",
    "#fmli = fmli[fmli.year == \"2020\"]\n",
    "#fmld = fmld[fmld.year == \"2020\"]\n",
    "#mtbi = mtbi[mtbi.year == \"2020\"]\n",
    "#expd = expd[expd.year == \"2020\"]\n",
    "\n",
    "fmli[\"TOTEXPCQ\"] = fmli[\"TOTEXPCQ\"].astype(float)\n",
    "fmli = fmli[fmli.TOTEXPCQ > 1]  # Roughly a third of interviews have no spend recorded\n",
    "\n",
    "fmli[\"FINCBTXM\"] = fmli[\"FINCBTXM\"].astype(float)\n",
    "fmli = fmli[fmli.FINCBTXM > 1]  # Roughly ten households a year record negative income (dunno how)\n",
    "\n",
    "# Ignore 32.5% of obs that have zero spending but have mean income of 87K\n",
    "# Removing the zero values, allows log transforms\n",
    "#fmli = fmli[fmli[\"TOTEXPCQ\"] > 0]\n",
    "#fmli = fmli[fmli[\"FINCBTXM\"] > 0]\n",
    "\n",
    "# Consider summarizing the fmld UCCs to calc the TOTEXPCQ and its components \n",
    "\n",
    "\"\"\"\n",
    "#\n",
    "# Get the MSA summaries\n",
    "#\n",
    "print(\"Get the CEX MSA summaries\")\n",
    "\n",
    "from oe_bls import oe_bls_cex_msa\n",
    "\n",
    "for year in YEARS:\n",
    "    msa,msacoded,cexvariables,msacodes = oe_bls_cex_msa.oe_bls_cex_msa_open(year, regions=REGIONS, msadir=MSADIR)\n",
    "\n",
    "msacodes[\"OMB MSA 1\"] = msacodes[\"OMB MSA 1\"].astype(str)\n",
    "\n",
    "msacompare = msacoded.T\n",
    "msacompare.columns = msacompare.iloc[0]\n",
    "msacompare.drop(['Item','HGLevel', 'ReportTitle', 'Var','Notes'],axis=0,inplace=True)\n",
    "msacompare = msacompare.reset_index().rename(columns={'index':'CPI Area'})\n",
    "msacompare = pd.merge(msacompare,msacodes,how='inner',on='CPI Area')\n",
    "\"\"\"\n",
    "\n",
    "\n",
    "# according to BLS, https://www.bls.gov/cex/cecomparison/acs_profile.htm\n",
    "# the CEX and ACS share:\n",
    "#    persons per household - exactly   (1.0 stdev 0.01)\n",
    "#        ACS is allegedly larger, an address can have multiple CUs (rarely)\n",
    "#    income                - CE is .91 x ACS, stddev 0.02\n",
    "#        FINCBTXM          Total Annual Income, as collected or imputed\n",
    "#        B19013e1\n",
    "#    rent                  - CE is .91 x ACS, stddev 0.04\n",
    "#        B25064e1 Median gross rent (dollars)\n",
    "#        RENDWECQ\n",
    "#    \n",
    "#    mortgage payment      - CE is 1.1 x ACS, stddev 0.02\n",
    "#        B25081e1 Mortgage Status\tMortgage Costs\tOwner-occupied housing units\tEstimate\tMORTGAGE STATUS\tOwner-occupied housing units\tTotal\n",
    "#        OWNDWECQ \n",
    "# DP04 Selected Housing Unit Characteristics\n",
    "#   Selected Monthly Ownership Costs (SMOC)\n",
    "#     Housing units with a mortgage\n",
    "#     Housing units without a mortgage\n",
    "\n",
    "#    utilities             - CE is .89 x ACS, stddev 0.01\n",
    "\n",
    "# Tenure is a subject we can relate manually\n",
    "#        CUTENURE\n",
    "\n",
    "\n"
   ]
  },
  {
   "cell_type": "code",
   "execution_count": null,
   "id": "6bac3926",
   "metadata": {},
   "outputs": [],
   "source": []
  },
  {
   "cell_type": "code",
   "execution_count": 16,
   "id": "8ac6744c",
   "metadata": {},
   "outputs": [
    {
     "name": "stdout",
     "output_type": "stream",
     "text": [
      "Training\n",
      "Model variables are: ['spending', 'income', 'race_white', 'race_black', 'race_native', 'race_asian', 'race_pacific', 'race_other', 'ethnic_nothispanic', 'ethnic_hispanic', 'tenure_owner', 'tenure_renter', 'family_size', 'state_06', 'state_34', 'state_48', 'state_17', 'state_12', 'state_13', 'state_36', 'state_08', 'state_42', 'state_33', 'state_26', 'state_53', 'state_15', 'state_51', 'state_24', 'state_02', 'state_04', 'state_11', 'state_27', 'state_25', 'state_29', 'state_10', 'state_18', 'msa_S49A', 'msa_S12A', 'msa_S37B', 'msa_S23A', 'msa_S35B', 'msa_S49B', 'msa_S35C', 'msa_S48B', 'msa_S12B', 'msa_S11A', 'msa_S23B', 'msa_S49D', 'msa_S37A', 'msa_S24B', 'msa_S49F', 'msa_S35A', 'msa_S35E', 'msa_S49G', 'msa_S48A', 'msa_S24A', 'msa_S49C', 'msa_S49E', 'msa_S35D']\n",
      "                            OLS Regression Results                            \n",
      "==============================================================================\n",
      "Dep. Variable:               spending   R-squared:                       0.301\n",
      "Model:                            OLS   Adj. R-squared:                  0.300\n",
      "Method:                 Least Squares   F-statistic:                     408.7\n",
      "Date:                Tue, 08 Nov 2022   Prob (F-statistic):               0.00\n",
      "Time:                        15:08:23   Log-Likelihood:            -3.7987e+05\n",
      "No. Observations:               37034   AIC:                         7.598e+05\n",
      "Df Residuals:                   36994   BIC:                         7.602e+05\n",
      "Df Model:                          39                                         \n",
      "Covariance Type:            nonrobust                                         \n",
      "======================================================================================\n",
      "                         coef    std err          t      P>|t|      [0.025      0.975]\n",
      "--------------------------------------------------------------------------------------\n",
      "income                 0.0437      0.000    100.381      0.000       0.043       0.045\n",
      "race_black         -1011.4625    115.309     -8.772      0.000   -1237.470    -785.454\n",
      "race_native         -167.1856    494.960     -0.338      0.736   -1137.321     802.949\n",
      "race_asian          -616.6504    133.696     -4.612      0.000    -878.699    -354.602\n",
      "race_pacific        -644.3522    488.316     -1.320      0.187   -1601.465     312.761\n",
      "race_other          -395.3407    260.487     -1.518      0.129    -905.903     115.222\n",
      "ethnic_nothispanic   979.1903    106.904      9.160      0.000     769.655    1188.725\n",
      "tenure_owner         688.6745     79.878      8.622      0.000     532.112     845.237\n",
      "family_size          464.2656     26.279     17.667      0.000     412.759     515.773\n",
      "state_06             298.9818     81.397      3.673      0.000     139.440     458.523\n",
      "state_34             362.4512    239.215      1.515      0.130    -106.418     831.320\n",
      "state_48             223.9288     83.123      2.694      0.007      61.005     386.852\n",
      "state_17            -439.1291    200.378     -2.192      0.028    -831.875     -46.383\n",
      "state_12            -263.3644     96.148     -2.739      0.006    -451.817     -74.912\n",
      "state_13            -210.0649     99.886     -2.103      0.035    -405.845     -14.285\n",
      "state_36             701.4978    274.857      2.552      0.011     162.770    1240.225\n",
      "state_08             356.1763     96.041      3.709      0.000     167.933     544.419\n",
      "state_42            -528.4672    301.199     -1.755      0.079   -1118.827      61.892\n",
      "state_33            -783.6928    388.122     -2.019      0.043   -1544.423     -22.963\n",
      "state_26            -249.8577     92.809     -2.692      0.007    -431.765     -67.950\n",
      "state_53             346.8719     96.100      3.609      0.000     158.514     535.230\n",
      "state_15            -314.0791    105.434     -2.979      0.003    -520.733    -107.425\n",
      "state_51             371.1339    256.869      1.445      0.149    -132.336     874.603\n",
      "state_24             267.7539    221.097      1.211      0.226    -165.602     701.110\n",
      "state_02             144.6635     96.484      1.499      0.134     -44.447     333.774\n",
      "state_04            -126.9920    104.287     -1.218      0.223    -331.397      77.413\n",
      "state_11             373.5232    399.349      0.935      0.350    -409.212    1156.259\n",
      "state_27             406.1858     94.897      4.280      0.000     220.186     592.186\n",
      "state_25            1041.0180    237.508      4.383      0.000     575.496    1506.540\n",
      "state_29            1078.8135    318.481      3.387      0.001     454.581    1703.046\n",
      "state_10            -210.5171    508.454     -0.414      0.679   -1207.102     786.068\n",
      "state_18           -1289.7346    420.883     -3.064      0.002   -2114.677    -464.792\n",
      "msa_S49A             198.2292    117.035      1.694      0.090     -31.163     427.622\n",
      "msa_S12A            -114.5774    252.103     -0.454      0.649    -608.706     379.551\n",
      "msa_S37B             190.1800    130.808      1.454      0.146     -66.207     446.567\n",
      "msa_S23A             242.5440    207.014      1.172      0.241    -163.208     648.296\n",
      "msa_S35B               1.9598    148.191      0.013      0.989    -288.499     292.418\n",
      "msa_S49B             292.7351    178.195      1.643      0.100     -56.532     642.002\n",
      "msa_S35C            -210.0649     99.886     -2.103      0.035    -405.845     -14.285\n",
      "msa_S48B             356.1763     96.041      3.709      0.000     167.933     544.419\n",
      "msa_S12B             439.5420    234.715      1.873      0.061     -20.505     899.589\n",
      "msa_S11A             257.3252    195.381      1.317      0.188    -125.627     640.278\n",
      "msa_S23B            -249.8577     92.809     -2.692      0.007    -431.765     -67.950\n",
      "msa_S49D             346.8719     96.100      3.609      0.000     158.514     535.230\n",
      "msa_S37A              33.7487    126.767      0.266      0.790    -214.719     282.217\n",
      "msa_S24B            -892.5942    259.138     -3.444      0.001   -1400.512    -384.677\n",
      "msa_S49F            -314.0791    105.434     -2.979      0.003    -520.733    -107.425\n",
      "msa_S35A             886.9191    167.178      5.305      0.000     559.246    1214.592\n",
      "msa_S35E             125.4919    258.472      0.486      0.627    -381.120     632.103\n",
      "msa_S49G             144.6635     96.484      1.499      0.134     -44.447     333.774\n",
      "msa_S48A            -126.9920    104.287     -1.218      0.223    -331.397      77.413\n",
      "msa_S24A             406.1858     94.897      4.280      0.000     220.186     592.186\n",
      "msa_S49C            -481.1576    178.847     -2.690      0.007    -831.702    -130.613\n",
      "msa_S49E             289.1750    186.003      1.555      0.120     -75.396     653.746\n",
      "msa_S35D            -265.3243    157.231     -1.687      0.092    -573.502      42.853\n",
      "intercept           1557.1006    118.466     13.144      0.000    1324.905    1789.296\n",
      "==============================================================================\n",
      "Omnibus:                    36469.639   Durbin-Watson:                   1.699\n",
      "Prob(Omnibus):                  0.000   Jarque-Bera (JB):          3341624.609\n",
      "Skew:                           4.650   Prob(JB):                         0.00\n",
      "Kurtosis:                      48.597   Cond. No.                     1.00e+16\n",
      "==============================================================================\n",
      "\n",
      "Notes:\n",
      "[1] Standard Errors assume that the covariance matrix of the errors is correctly specified.\n",
      "[2] The smallest eigenvalue is 6.29e-18. This might indicate that there are\n",
      "strong multicollinearity problems or that the design matrix is singular.\n",
      "                            OLS Regression Results                            \n",
      "==============================================================================\n",
      "Dep. Variable:               spending   R-squared:                       0.300\n",
      "Model:                            OLS   Adj. R-squared:                  0.299\n",
      "Method:                 Least Squares   F-statistic:                     406.2\n",
      "Date:                Tue, 08 Nov 2022   Prob (F-statistic):               0.00\n",
      "Time:                        15:08:23   Log-Likelihood:            -3.7990e+05\n",
      "No. Observations:               37034   AIC:                         7.599e+05\n",
      "Df Residuals:                   36994   BIC:                         7.602e+05\n",
      "Df Model:                          39                                         \n",
      "Covariance Type:            nonrobust                                         \n",
      "======================================================================================\n",
      "                         coef    std err          t      P>|t|      [0.025      0.975]\n",
      "--------------------------------------------------------------------------------------\n",
      "income                 0.0446      0.000    102.274      0.000       0.044       0.045\n",
      "race_black          -630.7094    115.414     -5.465      0.000    -856.923    -404.496\n",
      "race_native           -1.6176    495.411     -0.003      0.997    -972.636     969.401\n",
      "race_asian          -330.6752    133.818     -2.471      0.013    -592.962     -68.388\n",
      "race_pacific         -78.7688    488.761     -0.161      0.872   -1036.754     879.216\n",
      "race_other           -86.4744    260.724     -0.332      0.740    -597.502     424.553\n",
      "ethnic_nothispanic   955.7946    107.002      8.933      0.000     746.069    1165.521\n",
      "tenure_owner         690.4613     79.950      8.636      0.000     533.757     847.166\n",
      "family_size          496.8602     26.303     18.890      0.000     445.306     548.414\n",
      "state_06             241.9183     81.472      2.969      0.003      82.232     401.605\n",
      "state_34              72.9935    239.433      0.305      0.760    -396.302     542.289\n",
      "state_48             157.1848     83.199      1.889      0.059      -5.887     320.257\n",
      "state_17            -168.4229    200.560     -0.840      0.401    -561.526     224.681\n",
      "state_12            -173.9829     96.235     -1.808      0.071    -362.607      14.641\n",
      "state_13            -150.5332     99.977     -1.506      0.132    -346.491      45.425\n",
      "state_36             244.1814    275.107      0.888      0.375    -295.037     783.399\n",
      "state_08             227.2400     96.128      2.364      0.018      38.826     415.654\n",
      "state_42             -74.2460    301.474     -0.246      0.805    -665.143     516.651\n",
      "state_33             -70.7408    388.476     -0.182      0.856    -832.164     690.682\n",
      "state_26            -163.5373     92.893     -1.760      0.078    -345.611      18.536\n",
      "state_53             213.7283     96.187      2.222      0.026      25.198     402.258\n",
      "state_15            -249.9732    105.530     -2.369      0.018    -456.816     -43.131\n",
      "state_51             240.4370    257.102      0.935      0.350    -263.491     744.365\n",
      "state_24             193.5863    221.298      0.875      0.382    -240.164     627.337\n",
      "state_02              92.3520     96.571      0.956      0.339     -96.931     281.635\n",
      "state_04             -61.1141    104.382     -0.585      0.558    -265.705     143.477\n",
      "state_11              86.9274    399.713      0.217      0.828    -696.521     870.376\n",
      "state_27             265.0976     94.983      2.791      0.005      78.928     451.267\n",
      "state_25             426.3950    237.724      1.794      0.073     -39.551     892.341\n",
      "state_29             111.9359    318.771      0.351      0.725    -512.865     736.737\n",
      "state_10              15.1938    508.917      0.030      0.976    -982.299    1012.686\n",
      "state_18            -120.8610    421.266     -0.287      0.774    -946.555     704.833\n",
      "msa_S49A             161.4932    117.142      1.379      0.168     -68.108     391.094\n",
      "msa_S12A             191.5212    252.332      0.759      0.448    -303.057     686.099\n",
      "msa_S37B             111.0397    130.927      0.848      0.396    -145.581     367.660\n",
      "msa_S23A             -74.7511    207.202     -0.361      0.718    -480.873     331.371\n",
      "msa_S35B             -48.1912    148.326     -0.325      0.745    -338.914     242.532\n",
      "msa_S49B             124.4489    178.357      0.698      0.485    -225.136     474.034\n",
      "msa_S35C            -150.5332     99.977     -1.506      0.132    -346.491      45.425\n",
      "msa_S48B             227.2400     96.128      2.364      0.018      38.826     415.654\n",
      "msa_S12B              66.6015    234.928      0.283      0.777    -393.865     527.068\n",
      "msa_S11A             355.6543    195.559      1.819      0.069     -27.647     738.956\n",
      "msa_S23B            -163.5373     92.893     -1.760      0.078    -345.611      18.536\n",
      "msa_S49D             213.7283     96.187      2.222      0.026      25.198     402.258\n",
      "msa_S37A              46.1451    126.883      0.364      0.716    -202.549     294.839\n",
      "msa_S24B            -102.5969    259.374     -0.396      0.692    -610.977     405.783\n",
      "msa_S49F            -249.9732    105.530     -2.369      0.018    -456.816     -43.131\n",
      "msa_S35A             460.2048    167.330      2.750      0.006     132.233     788.176\n",
      "msa_S35E              60.7458    258.707      0.235      0.814    -446.327     567.819\n",
      "msa_S49G              92.3520     96.571      0.956      0.339     -96.931     281.635\n",
      "msa_S48A             -61.1141    104.382     -0.585      0.558    -265.705     143.477\n",
      "msa_S24A             265.0976     94.983      2.791      0.005      78.928     451.267\n",
      "msa_S49C            -172.7280    179.009     -0.965      0.335    -523.591     178.135\n",
      "msa_S49E             128.7041    186.172      0.691      0.489    -236.199     493.607\n",
      "msa_S35D            -125.7917    157.374     -0.799      0.424    -434.250     182.667\n",
      "intercept           1355.7598    118.573     11.434      0.000    1123.352    1588.167\n",
      "==============================================================================\n",
      "Omnibus:                    36352.887   Durbin-Watson:                   1.700\n",
      "Prob(Omnibus):                  0.000   Jarque-Bera (JB):          3310141.196\n",
      "Skew:                           4.626   Prob(JB):                         0.00\n",
      "Kurtosis:                      48.382   Cond. No.                     1.00e+16\n",
      "==============================================================================\n",
      "\n",
      "Notes:\n",
      "[1] Standard Errors assume that the covariance matrix of the errors is correctly specified.\n",
      "[2] The smallest eigenvalue is 6.29e-18. This might indicate that there are\n",
      "strong multicollinearity problems or that the design matrix is singular.\n"
     ]
    }
   ],
   "source": [
    "cexdata = fmli\n",
    "\n",
    "cexdata = cexdata[cexdata.TOTEXPCQ > 0]\n",
    "cexdata = cexdata[cexdata.FINCBTXM > 0]\n",
    "cexdata = cexdata[~cexdata.PSU.isna()]\n",
    "\n",
    "print('Training')\n",
    "modelvars = []\n",
    "cexvars = []\n",
    "\n",
    "#############################################################\n",
    "# Create variables on CEX that map to ACS\n",
    "\n",
    "# SPENDING\n",
    "modelvars.append('spending')\n",
    "cexvars.append('TOTEXPCQ')\n",
    "cexdata['spending'] = cexdata['TOTEXPCQ']\n",
    "\n",
    "# INCOME\n",
    "modelvars.append('income')\n",
    "cexvars.append('FINCBTXM')\n",
    "cexdata['income'] = cexdata['FINCBTXM']\n",
    "\n",
    "# RACE\n",
    "for var in ['race_white','race_black','race_native','race_asian','race_pacific','race_other']:\n",
    "    modelvars.append(var)\n",
    "cexvars.append('REF_RACE')\n",
    "\n",
    "# Using np.where rather than get_dummies, in case each value is missing in the observed data\n",
    "cexdata['race_white']    = np.where(cexdata.REF_RACE == '1',1,0) \n",
    "cexdata['race_black']    = np.where(cexdata.REF_RACE == '2',1,0)\n",
    "cexdata['race_native']   = np.where(cexdata.REF_RACE == '3',1,0)\n",
    "cexdata['race_asian']    = np.where(cexdata.REF_RACE == '4',1,0)\n",
    "cexdata['race_pacific']  = np.where(cexdata.REF_RACE == '5',1,0)\n",
    "cexdata['race_other']    = 1 - (cexdata['race_white'] + \\\n",
    "                                cexdata['race_black'] +\n",
    "                                cexdata['race_native'] +\n",
    "                                cexdata['race_asian'] +\n",
    "                                cexdata['race_pacific'] )\n",
    "# ETHNICITY\n",
    "for var in ['ethnic_nothispanic','ethnic_hispanic']:\n",
    "    modelvars.append(var)\n",
    "cexvars.append('HISP_REF')\n",
    "cexdata['ethnic_nothispanic'] = np.where(cexdata['HISP_REF'] != '1',1,0)\n",
    "cexdata['ethnic_hispanic']    = np.where(cexdata['HISP_REF'] == '1',1,0)\n",
    "\n",
    "# TENURE\n",
    "for var in ['tenure_owner','tenure_renter']:\n",
    "    modelvars.append(var)\n",
    "cexvars.append('CUTENURE')\n",
    "cexdata['tenure_owner'] = np.where((cexdata.CUTENURE == '1')|(cexdata.CUTENURE == '2')|(cexdata.CUTENURE == '3'),1,0)\n",
    "cexdata['tenure_renter'] = np.where(cexdata.CUTENURE == '4',1,0)\n",
    "\n",
    "# FAMILY SIZE\n",
    "modelvars.append('family_size')\n",
    "cexvars.append('FAM_SIZE')\n",
    "cexdata['family_size'] = cexdata['FAM_SIZE']\n",
    "\n",
    "# STATE\n",
    "states = pd.read_csv('https://raw.githubusercontent.com/OpenEnvironments/core/main/states.csv', dtype=str)\n",
    "states['StateFIPS'] = states.StateFIPS.str.zfill(2)\n",
    "\n",
    "#for s in states['StateFIPS'][~states.CensusName.isna()]:\n",
    "for s in cexdata.STATE.unique():\n",
    "    modelvars.append('state_'+s)\n",
    "cexvars.append('FAM_SIZE')\n",
    "\n",
    "# CEX does not include all states, generate \n",
    "cexmissingstates = \\\n",
    "    {'40':'20',   # Oklahoma: Kansas\n",
    "     '05':'40',  # Arkansas: Oklahoma\n",
    "     '16':'46',  # Idaho: South Dakota\n",
    "     '23':'33',  # Maine: New Hampshire\n",
    "     '30':'46',  # Montana: South Dakota\n",
    "     '35':'04',  # New Mexico: Arizona:\n",
    "     '38':'46',  # North Dakota: South Dakota\n",
    "     '44':'09',  # Rhode Island: Connecticut\n",
    "     '50':'33',  # Vermont: New Hampshire\n",
    "     '56':'46',  # Wyoming:South Dakota\n",
    "     '72':'25'   # Puerto Rick: Massachussets\n",
    "    }\n",
    "\n",
    "cexstate = pd.get_dummies(cexdata.STATE)\n",
    "#for s in cexmissingstates.keys():\n",
    "#    cexstate[s] = cexstate[cexmissingstates[s]]\n",
    "cexstate.columns = ['state_'+c for c in cexstate.columns]\n",
    "cexdata = pd.concat([cexdata,cexstate], axis=1)\n",
    "\n",
    "# MSA\n",
    "for m in [x for x in cexdata.PSU.unique() if str(x) != 'nan']:\n",
    "    modelvars.append('msa_'+m)\n",
    "cexvars.append('PSU')\n",
    "\n",
    "cexmsa = pd.get_dummies(cexdata.PSU)\n",
    "cexmsa.columns = ['msa_'+c for c in cexmsa.columns]\n",
    "\n",
    "cexdata = pd.concat([cexdata,cexmsa], axis=1)\n",
    "\n",
    "# DENSITY\n",
    "\n",
    "\n",
    "\n",
    "#####################################################################\n",
    "# Train, summarize and save the model\n",
    "\n",
    "from sklearn.linear_model import LinearRegression, Ridge\n",
    "from sklearn.metrics import mean_squared_error, r2_score\n",
    "from sklearn.model_selection import train_test_split\n",
    "\n",
    "import statsmodels.api as sm\n",
    "\n",
    "X = cexdata[\\\n",
    "    [c for c in modelvars if c not in \n",
    "    ['spending','race_white','ethnic_hispanic','tenure_renter','state_01','msa_']]]\n",
    "X = X.astype(float)\n",
    "X['intercept'] = 1\n",
    "y = cexdata['spending']\n",
    "\n",
    "X_train, X_test, y_train, y_test = train_test_split(X, y, test_size=0.10, random_state=123)\n",
    "\n",
    "model = sm.OLS(y,X)\n",
    "results = model.fit()\n",
    "\n",
    "print(\"Model variables are:\",modelvars)\n",
    "print(results.summary())\n",
    "results.save('blockgroupspending_regression.pkl')\n",
    "\n",
    "results_fr = model.fit_regularized(L1_wt=0, alpha=0.04, start_params=results.params)\n",
    "final = sm.regression.linear_model.OLSResults(model, \n",
    "                                              results_fr.params, \n",
    "                                              model.normalized_cov_params)\n",
    "\n",
    "print(final.summary())\n"
   ]
  },
  {
   "cell_type": "code",
   "execution_count": null,
   "id": "1e12f6c4",
   "metadata": {},
   "outputs": [],
   "source": []
  },
  {
   "cell_type": "code",
   "execution_count": 1,
   "id": "ce19fb50",
   "metadata": {},
   "outputs": [
    {
     "data": {
      "text/plain": [
       "['TOTEXP',\n",
       " 'FOOD',\n",
       " 'ALCBEV',\n",
       " 'HOUS',\n",
       " 'APPAR',\n",
       " 'TRANS',\n",
       " 'HEALTH',\n",
       " 'ENTERT',\n",
       " 'PERSCA',\n",
       " 'READ',\n",
       " 'EDUCA',\n",
       " 'TOBACC',\n",
       " 'MISC',\n",
       " 'CASHCO',\n",
       " 'RETPEN']"
      ]
     },
     "execution_count": 1,
     "metadata": {},
     "output_type": "execute_result"
    }
   ],
   "source": [
    "[c for c in ['TOTEXP','FOOD','ALCBEV','HOUS','APPAR','TRANS','HEALTH', 'ENTERT',\n",
    "           'PERSCA', 'READ','EDUCA','TOBACC','MISC', 'CASHCO','RETPEN']]"
   ]
  },
  {
   "cell_type": "code",
   "execution_count": null,
   "id": "2ecf8f51-72bf-4bb2-8f45-bdaa1c553a6a",
   "metadata": {},
   "outputs": [],
   "source": []
  }
 ],
 "metadata": {
  "kernelspec": {
   "display_name": "dataengineering",
   "language": "python",
   "name": "dataengineering"
  },
  "language_info": {
   "codemirror_mode": {
    "name": "ipython",
    "version": 3
   },
   "file_extension": ".py",
   "mimetype": "text/x-python",
   "name": "python",
   "nbconvert_exporter": "python",
   "pygments_lexer": "ipython3",
   "version": "3.10.15"
  }
 },
 "nbformat": 4,
 "nbformat_minor": 5
}
